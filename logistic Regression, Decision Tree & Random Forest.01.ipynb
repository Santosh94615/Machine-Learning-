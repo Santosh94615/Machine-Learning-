{
 "cells": [
  {
   "cell_type": "markdown",
   "metadata": {},
   "source": [
    "## Employee Status Prediction "
   ]
  },
  {
   "cell_type": "code",
   "execution_count": 1,
   "metadata": {},
   "outputs": [],
   "source": [
    "## import the libraries.\n",
    "\n",
    "import pandas as pd \n",
    "import numpy as np\n",
    "import seaborn as sns"
   ]
  },
  {
   "cell_type": "code",
   "execution_count": 2,
   "metadata": {},
   "outputs": [
    {
     "name": "stderr",
     "output_type": "stream",
     "text": [
      "C:\\Users\\guess\\anaconda3\\lib\\site-packages\\IPython\\core\\interactiveshell.py:3146: DtypeWarning: Columns (10) have mixed types.Specify dtype option on import or set low_memory=False.\n",
      "  has_raised = await self.run_ast_nodes(code_ast.body, cell_name,\n"
     ]
    }
   ],
   "source": [
    "## load the data.\n",
    "\n",
    "df=pd.read_csv('ATTRITION DATA.CSV',na_filter=False)"
   ]
  },
  {
   "cell_type": "code",
   "execution_count": 3,
   "metadata": {},
   "outputs": [
    {
     "name": "stdout",
     "output_type": "stream",
     "text": [
      "(171525, 18)\n",
      "(142748, 18)\n"
     ]
    },
    {
     "data": {
      "text/html": [
       "<div>\n",
       "<style scoped>\n",
       "    .dataframe tbody tr th:only-of-type {\n",
       "        vertical-align: middle;\n",
       "    }\n",
       "\n",
       "    .dataframe tbody tr th {\n",
       "        vertical-align: top;\n",
       "    }\n",
       "\n",
       "    .dataframe thead th {\n",
       "        text-align: right;\n",
       "    }\n",
       "</style>\n",
       "<table border=\"1\" class=\"dataframe\">\n",
       "  <thead>\n",
       "    <tr style=\"text-align: right;\">\n",
       "      <th></th>\n",
       "      <th>EMP_ID</th>\n",
       "      <th>Manager_ID</th>\n",
       "      <th>GENDER</th>\n",
       "      <th>DATE_OF_BIRTH</th>\n",
       "      <th>DATE_OF_JOIN</th>\n",
       "      <th>MARITAL_STATUS</th>\n",
       "      <th>P_CITY_NAME</th>\n",
       "      <th>LAST_DATE</th>\n",
       "      <th>EMP_STATUS</th>\n",
       "      <th>Title1</th>\n",
       "      <th>Latest_Rating</th>\n",
       "      <th>RESIGNATION_REASON</th>\n",
       "      <th>OFFICE_NAME</th>\n",
       "      <th>Office_city</th>\n",
       "      <th>Level_NAME</th>\n",
       "      <th>UNIT_NAME</th>\n",
       "      <th>QUALIFICATION_LEVEL</th>\n",
       "      <th>CLIENT_NAME</th>\n",
       "    </tr>\n",
       "  </thead>\n",
       "  <tbody>\n",
       "    <tr>\n",
       "      <th>0</th>\n",
       "      <td>10058</td>\n",
       "      <td>10764</td>\n",
       "      <td>FEMALE</td>\n",
       "      <td>5/21/1983</td>\n",
       "      <td>12/31/2005</td>\n",
       "      <td>S</td>\n",
       "      <td>Bangalore</td>\n",
       "      <td>3/5/2008</td>\n",
       "      <td>InActive</td>\n",
       "      <td>Officer</td>\n",
       "      <td>3</td>\n",
       "      <td>Less Salary , hated long working hours</td>\n",
       "      <td>Hyd Grand Vista</td>\n",
       "      <td>Hyderabad</td>\n",
       "      <td>Non Management</td>\n",
       "      <td>Domestic</td>\n",
       "      <td>Post Grad</td>\n",
       "      <td>Tel-Airtel</td>\n",
       "    </tr>\n",
       "    <tr>\n",
       "      <th>1</th>\n",
       "      <td>10077</td>\n",
       "      <td>544</td>\n",
       "      <td>FEMALE</td>\n",
       "      <td>6/27/1982</td>\n",
       "      <td>12/31/2005</td>\n",
       "      <td>S</td>\n",
       "      <td>Bangalore</td>\n",
       "      <td>8/31/2006</td>\n",
       "      <td>InActive</td>\n",
       "      <td>Officer</td>\n",
       "      <td>3</td>\n",
       "      <td>Less Salary , hated long working hours</td>\n",
       "      <td>Hyd Kpalli</td>\n",
       "      <td>Hyderabad</td>\n",
       "      <td>Non Management</td>\n",
       "      <td>Domestic</td>\n",
       "      <td>Post Grad</td>\n",
       "      <td>Tel-Airtel</td>\n",
       "    </tr>\n",
       "    <tr>\n",
       "      <th>2</th>\n",
       "      <td>10102</td>\n",
       "      <td>9507</td>\n",
       "      <td>MALE</td>\n",
       "      <td>8/15/2000</td>\n",
       "      <td>12/31/2005</td>\n",
       "      <td>S</td>\n",
       "      <td>Bangalore</td>\n",
       "      <td>10/6/2007</td>\n",
       "      <td>InActive</td>\n",
       "      <td>Officer</td>\n",
       "      <td>3</td>\n",
       "      <td>Less Salary , hated long working hours</td>\n",
       "      <td>Hyd Kpalli</td>\n",
       "      <td>Hyderabad</td>\n",
       "      <td>Non Management</td>\n",
       "      <td>Domestic</td>\n",
       "      <td>Post Grad</td>\n",
       "      <td>Tel-Airtel</td>\n",
       "    </tr>\n",
       "    <tr>\n",
       "      <th>3</th>\n",
       "      <td>10147</td>\n",
       "      <td>NULL</td>\n",
       "      <td>MALE</td>\n",
       "      <td>10/9/1980</td>\n",
       "      <td>12/30/2005</td>\n",
       "      <td>S</td>\n",
       "      <td>Bangalore</td>\n",
       "      <td>5/15/2007</td>\n",
       "      <td>InActive</td>\n",
       "      <td>Officer</td>\n",
       "      <td>3</td>\n",
       "      <td>Less Salary , hated long working hours</td>\n",
       "      <td>Hyd Kpalli</td>\n",
       "      <td>Hyderabad</td>\n",
       "      <td>Non Management</td>\n",
       "      <td>Domestic</td>\n",
       "      <td>Post Grad</td>\n",
       "      <td>Tel-Airtel</td>\n",
       "    </tr>\n",
       "    <tr>\n",
       "      <th>4</th>\n",
       "      <td>10151</td>\n",
       "      <td>8656</td>\n",
       "      <td>MALE</td>\n",
       "      <td>7/31/1982</td>\n",
       "      <td>12/31/2005</td>\n",
       "      <td>S</td>\n",
       "      <td>Bangalore</td>\n",
       "      <td>5/21/2007</td>\n",
       "      <td>InActive</td>\n",
       "      <td>Officer</td>\n",
       "      <td>3</td>\n",
       "      <td>Less Salary , hated long working hours</td>\n",
       "      <td>Hyd Kpalli</td>\n",
       "      <td>Hyderabad</td>\n",
       "      <td>Non Management</td>\n",
       "      <td>Domestic</td>\n",
       "      <td>Post Grad</td>\n",
       "      <td>Tel-Airtel</td>\n",
       "    </tr>\n",
       "  </tbody>\n",
       "</table>\n",
       "</div>"
      ],
      "text/plain": [
       "  EMP_ID Manager_ID  GENDER DATE_OF_BIRTH DATE_OF_JOIN MARITAL_STATUS  \\\n",
       "0  10058      10764  FEMALE     5/21/1983   12/31/2005              S   \n",
       "1  10077        544  FEMALE     6/27/1982   12/31/2005              S   \n",
       "2  10102       9507    MALE     8/15/2000   12/31/2005              S   \n",
       "3  10147       NULL    MALE     10/9/1980   12/30/2005              S   \n",
       "4  10151       8656    MALE     7/31/1982   12/31/2005              S   \n",
       "\n",
       "  P_CITY_NAME  LAST_DATE EMP_STATUS   Title1 Latest_Rating  \\\n",
       "0   Bangalore   3/5/2008   InActive  Officer             3   \n",
       "1   Bangalore  8/31/2006   InActive  Officer             3   \n",
       "2   Bangalore  10/6/2007   InActive  Officer             3   \n",
       "3   Bangalore  5/15/2007   InActive  Officer             3   \n",
       "4   Bangalore  5/21/2007   InActive  Officer             3   \n",
       "\n",
       "                       RESIGNATION_REASON       OFFICE_NAME Office_city  \\\n",
       "0  Less Salary , hated long working hours   Hyd Grand Vista   Hyderabad   \n",
       "1  Less Salary , hated long working hours        Hyd Kpalli   Hyderabad   \n",
       "2  Less Salary , hated long working hours        Hyd Kpalli   Hyderabad   \n",
       "3  Less Salary , hated long working hours        Hyd Kpalli   Hyderabad   \n",
       "4  Less Salary , hated long working hours        Hyd Kpalli   Hyderabad   \n",
       "\n",
       "       Level_NAME UNIT_NAME QUALIFICATION_LEVEL CLIENT_NAME  \n",
       "0  Non Management  Domestic           Post Grad  Tel-Airtel  \n",
       "1  Non Management  Domestic           Post Grad  Tel-Airtel  \n",
       "2  Non Management  Domestic           Post Grad  Tel-Airtel  \n",
       "3  Non Management  Domestic           Post Grad  Tel-Airtel  \n",
       "4  Non Management  Domestic           Post Grad  Tel-Airtel  "
      ]
     },
     "execution_count": 3,
     "metadata": {},
     "output_type": "execute_result"
    }
   ],
   "source": [
    "## reading non null values only.\n",
    "\n",
    "print(df.shape)\n",
    "df1=df[df['EMP_ID']!=\"\"]\n",
    "print(df1.shape)\n",
    "df.head(5)"
   ]
  },
  {
   "cell_type": "code",
   "execution_count": 4,
   "metadata": {
    "scrolled": false
   },
   "outputs": [
    {
     "name": "stdout",
     "output_type": "stream",
     "text": [
      "<class 'pandas.core.frame.DataFrame'>\n",
      "Int64Index: 142748 entries, 0 to 142747\n",
      "Data columns (total 18 columns):\n",
      " #   Column               Non-Null Count   Dtype \n",
      "---  ------               --------------   ----- \n",
      " 0   EMP_ID               142748 non-null  object\n",
      " 1   Manager_ID           142748 non-null  object\n",
      " 2   GENDER               142748 non-null  object\n",
      " 3   DATE_OF_BIRTH        142748 non-null  object\n",
      " 4   DATE_OF_JOIN         142748 non-null  object\n",
      " 5   MARITAL_STATUS       142748 non-null  object\n",
      " 6   P_CITY_NAME          142748 non-null  object\n",
      " 7   LAST_DATE            142748 non-null  object\n",
      " 8   EMP_STATUS           142748 non-null  object\n",
      " 9   Title1               142748 non-null  object\n",
      " 10  Latest_Rating        142748 non-null  object\n",
      " 11  RESIGNATION_REASON   142748 non-null  object\n",
      " 12  OFFICE_NAME          142748 non-null  object\n",
      " 13  Office_city          142748 non-null  object\n",
      " 14  Level_NAME           142748 non-null  object\n",
      " 15  UNIT_NAME            142748 non-null  object\n",
      " 16  QUALIFICATION_LEVEL  142748 non-null  object\n",
      " 17  CLIENT_NAME          142748 non-null  object\n",
      "dtypes: object(18)\n",
      "memory usage: 20.7+ MB\n"
     ]
    }
   ],
   "source": [
    "## observe the info of the features.\n",
    "\n",
    "df1.info()"
   ]
  },
  {
   "cell_type": "code",
   "execution_count": 5,
   "metadata": {},
   "outputs": [
    {
     "data": {
      "text/plain": [
       "EMP_ID                 0.0\n",
       "Manager_ID             0.0\n",
       "GENDER                 0.0\n",
       "DATE_OF_BIRTH          0.0\n",
       "DATE_OF_JOIN           0.0\n",
       "MARITAL_STATUS         0.0\n",
       "P_CITY_NAME            0.0\n",
       "LAST_DATE              0.0\n",
       "EMP_STATUS             0.0\n",
       "Title1                 0.0\n",
       "Latest_Rating          0.0\n",
       "RESIGNATION_REASON     0.0\n",
       "OFFICE_NAME            0.0\n",
       "Office_city            0.0\n",
       "Level_NAME             0.0\n",
       "UNIT_NAME              0.0\n",
       "QUALIFICATION_LEVEL    0.0\n",
       "CLIENT_NAME            0.0\n",
       "dtype: float64"
      ]
     },
     "execution_count": 5,
     "metadata": {},
     "output_type": "execute_result"
    }
   ],
   "source": [
    "## check for the null values\n",
    "\n",
    "df1.isnull().mean()*100"
   ]
  },
  {
   "cell_type": "code",
   "execution_count": 6,
   "metadata": {},
   "outputs": [
    {
     "data": {
      "text/plain": [
       "pandas.core.series.Series"
      ]
     },
     "execution_count": 6,
     "metadata": {},
     "output_type": "execute_result"
    }
   ],
   "source": [
    "## type of the feature\n",
    "\n",
    "type(df1['DATE_OF_BIRTH'])"
   ]
  },
  {
   "cell_type": "code",
   "execution_count": 7,
   "metadata": {},
   "outputs": [
    {
     "name": "stderr",
     "output_type": "stream",
     "text": [
      "<ipython-input-7-b40590b13c5c>:3: SettingWithCopyWarning: \n",
      "A value is trying to be set on a copy of a slice from a DataFrame.\n",
      "Try using .loc[row_indexer,col_indexer] = value instead\n",
      "\n",
      "See the caveats in the documentation: https://pandas.pydata.org/pandas-docs/stable/user_guide/indexing.html#returning-a-view-versus-a-copy\n",
      "  df1['DATE_OF_BIRTH'] =  pd.to_datetime(df1['DATE_OF_BIRTH'], format='%m/%d/%Y', errors='coerce')\n"
     ]
    }
   ],
   "source": [
    "## converting the date format.\n",
    "\n",
    "df1['DATE_OF_BIRTH'] =  pd.to_datetime(df1['DATE_OF_BIRTH'], format='%m/%d/%Y', errors='coerce') "
   ]
  },
  {
   "cell_type": "code",
   "execution_count": 8,
   "metadata": {},
   "outputs": [
    {
     "name": "stderr",
     "output_type": "stream",
     "text": [
      "<ipython-input-8-90b358f48284>:1: SettingWithCopyWarning: \n",
      "A value is trying to be set on a copy of a slice from a DataFrame.\n",
      "Try using .loc[row_indexer,col_indexer] = value instead\n",
      "\n",
      "See the caveats in the documentation: https://pandas.pydata.org/pandas-docs/stable/user_guide/indexing.html#returning-a-view-versus-a-copy\n",
      "  df1['DATE_OF_JOIN'] =  pd.to_datetime(df1['DATE_OF_JOIN'], format='%m/%d/%Y', errors='coerce')\n"
     ]
    }
   ],
   "source": [
    "df1['DATE_OF_JOIN'] =  pd.to_datetime(df1['DATE_OF_JOIN'], format='%m/%d/%Y', errors='coerce') "
   ]
  },
  {
   "cell_type": "code",
   "execution_count": 9,
   "metadata": {},
   "outputs": [
    {
     "name": "stderr",
     "output_type": "stream",
     "text": [
      "<ipython-input-9-75f15d6d9227>:1: SettingWithCopyWarning: \n",
      "A value is trying to be set on a copy of a slice from a DataFrame.\n",
      "Try using .loc[row_indexer,col_indexer] = value instead\n",
      "\n",
      "See the caveats in the documentation: https://pandas.pydata.org/pandas-docs/stable/user_guide/indexing.html#returning-a-view-versus-a-copy\n",
      "  df1['LAST_DATE'] =  pd.to_datetime(df1['LAST_DATE'], format='%m/%d/%Y', errors='coerce')\n"
     ]
    }
   ],
   "source": [
    "df1['LAST_DATE'] =  pd.to_datetime(df1['LAST_DATE'], format='%m/%d/%Y', errors='coerce') "
   ]
  },
  {
   "cell_type": "code",
   "execution_count": 10,
   "metadata": {
    "scrolled": true
   },
   "outputs": [
    {
     "name": "stdout",
     "output_type": "stream",
     "text": [
      "       DATE_OF_BIRTH DATE_OF_JOIN  LAST_DATE\n",
      "0         1983-05-21   2005-12-31 2008-03-05\n",
      "1         1982-06-27   2005-12-31 2006-08-31\n",
      "2         2000-08-15   2005-12-31 2007-10-06\n",
      "3         1980-10-09   2005-12-30 2007-05-15\n",
      "4         1982-07-31   2005-12-31 2007-05-21\n",
      "...              ...          ...        ...\n",
      "142743    1991-05-03   2012-06-25 2014-02-14\n",
      "142744    1991-03-06   2012-07-24 2013-03-27\n",
      "142745    1990-08-16   2012-07-25 2013-01-11\n",
      "142746    1989-10-05   2012-08-02 2013-04-19\n",
      "142747    1986-04-26   2012-08-02 2013-01-31\n",
      "\n",
      "[142748 rows x 3 columns]\n"
     ]
    }
   ],
   "source": [
    "## print the converted date format.\n",
    "\n",
    "print(df1[['DATE_OF_BIRTH','DATE_OF_JOIN','LAST_DATE']])"
   ]
  },
  {
   "cell_type": "code",
   "execution_count": 11,
   "metadata": {},
   "outputs": [
    {
     "name": "stdout",
     "output_type": "stream",
     "text": [
      "0         Bangalore\n",
      "1         Bangalore\n",
      "2         Bangalore\n",
      "3         Bangalore\n",
      "4         Bangalore\n",
      "            ...    \n",
      "142743    Bangalore\n",
      "142744    Bangalore\n",
      "142745     Chittoor\n",
      "142746    Bangalore\n",
      "142747         NULL\n",
      "Name: P_CITY_NAME, Length: 142748, dtype: object\n"
     ]
    },
    {
     "name": "stderr",
     "output_type": "stream",
     "text": [
      "<ipython-input-11-e6b07cd9fdcb>:3: SettingWithCopyWarning: \n",
      "A value is trying to be set on a copy of a slice from a DataFrame.\n",
      "Try using .loc[row_indexer,col_indexer] = value instead\n",
      "\n",
      "See the caveats in the documentation: https://pandas.pydata.org/pandas-docs/stable/user_guide/indexing.html#returning-a-view-versus-a-copy\n",
      "  df1['P_CITY_NAME'] = df1['P_CITY_NAME'].astype('str')\n",
      "<ipython-input-11-e6b07cd9fdcb>:4: SettingWithCopyWarning: \n",
      "A value is trying to be set on a copy of a slice from a DataFrame.\n",
      "Try using .loc[row_indexer,col_indexer] = value instead\n",
      "\n",
      "See the caveats in the documentation: https://pandas.pydata.org/pandas-docs/stable/user_guide/indexing.html#returning-a-view-versus-a-copy\n",
      "  df1['Office_city'] = df1['Office_city'].astype('str')\n"
     ]
    }
   ],
   "source": [
    "## convert the datatpe to string \n",
    "\n",
    "df1['P_CITY_NAME'] = df1['P_CITY_NAME'].astype('str')\n",
    "df1['Office_city'] = df1['Office_city'].astype('str')\n",
    "print(df1['P_CITY_NAME'])"
   ]
  },
  {
   "cell_type": "code",
   "execution_count": 12,
   "metadata": {},
   "outputs": [
    {
     "name": "stdout",
     "output_type": "stream",
     "text": [
      "0         1\n",
      "1         1\n",
      "2         1\n",
      "3         1\n",
      "4         1\n",
      "         ..\n",
      "142743    0\n",
      "142744    0\n",
      "142745    1\n",
      "142746    0\n",
      "142747    1\n",
      "Name: Migration_Status, Length: 142748, dtype: int32\n"
     ]
    },
    {
     "name": "stderr",
     "output_type": "stream",
     "text": [
      "<ipython-input-12-d97ddb7d3a7e>:3: SettingWithCopyWarning: \n",
      "A value is trying to be set on a copy of a slice from a DataFrame.\n",
      "Try using .loc[row_indexer,col_indexer] = value instead\n",
      "\n",
      "See the caveats in the documentation: https://pandas.pydata.org/pandas-docs/stable/user_guide/indexing.html#returning-a-view-versus-a-copy\n",
      "  df1['Migration_Status'] = np.where((df1.P_CITY_NAME==df1.Office_city),0,1)\n"
     ]
    }
   ],
   "source": [
    "## assigning Office_city as 0 and reamining as 1.\n",
    "\n",
    "df1['Migration_Status'] = np.where((df1.P_CITY_NAME==df1.Office_city),0,1)\n",
    "print(df1['Migration_Status'])"
   ]
  },
  {
   "cell_type": "code",
   "execution_count": 13,
   "metadata": {},
   "outputs": [
    {
     "name": "stderr",
     "output_type": "stream",
     "text": [
      "<ipython-input-13-9741b12a2954>:3: SettingWithCopyWarning: \n",
      "A value is trying to be set on a copy of a slice from a DataFrame.\n",
      "Try using .loc[row_indexer,col_indexer] = value instead\n",
      "\n",
      "See the caveats in the documentation: https://pandas.pydata.org/pandas-docs/stable/user_guide/indexing.html#returning-a-view-versus-a-copy\n",
      "  df1['P_CITY_NAME'] = df1['P_CITY_NAME'].astype('category')\n"
     ]
    }
   ],
   "source": [
    "## convert datatype as category\n",
    "\n",
    "df1['P_CITY_NAME'] = df1['P_CITY_NAME'].astype('category')"
   ]
  },
  {
   "cell_type": "code",
   "execution_count": 14,
   "metadata": {},
   "outputs": [
    {
     "data": {
      "text/plain": [
       "pandas.core.series.Series"
      ]
     },
     "execution_count": 14,
     "metadata": {},
     "output_type": "execute_result"
    }
   ],
   "source": [
    "type(df1['P_CITY_NAME'] )"
   ]
  },
  {
   "cell_type": "code",
   "execution_count": 15,
   "metadata": {},
   "outputs": [
    {
     "name": "stderr",
     "output_type": "stream",
     "text": [
      "<ipython-input-15-9b0ecba27918>:3: SettingWithCopyWarning: \n",
      "A value is trying to be set on a copy of a slice from a DataFrame.\n",
      "Try using .loc[row_indexer,col_indexer] = value instead\n",
      "\n",
      "See the caveats in the documentation: https://pandas.pydata.org/pandas-docs/stable/user_guide/indexing.html#returning-a-view-versus-a-copy\n",
      "  df1['GENDER'] = df1['GENDER'].astype('category')\n",
      "<ipython-input-15-9b0ecba27918>:4: SettingWithCopyWarning: \n",
      "A value is trying to be set on a copy of a slice from a DataFrame.\n",
      "Try using .loc[row_indexer,col_indexer] = value instead\n",
      "\n",
      "See the caveats in the documentation: https://pandas.pydata.org/pandas-docs/stable/user_guide/indexing.html#returning-a-view-versus-a-copy\n",
      "  df1['Manager_ID'] = df1['Manager_ID'].astype('category')\n",
      "<ipython-input-15-9b0ecba27918>:5: SettingWithCopyWarning: \n",
      "A value is trying to be set on a copy of a slice from a DataFrame.\n",
      "Try using .loc[row_indexer,col_indexer] = value instead\n",
      "\n",
      "See the caveats in the documentation: https://pandas.pydata.org/pandas-docs/stable/user_guide/indexing.html#returning-a-view-versus-a-copy\n",
      "  df1['MARITAL_STATUS'] = df1['MARITAL_STATUS'].astype('category')\n",
      "<ipython-input-15-9b0ecba27918>:6: SettingWithCopyWarning: \n",
      "A value is trying to be set on a copy of a slice from a DataFrame.\n",
      "Try using .loc[row_indexer,col_indexer] = value instead\n",
      "\n",
      "See the caveats in the documentation: https://pandas.pydata.org/pandas-docs/stable/user_guide/indexing.html#returning-a-view-versus-a-copy\n",
      "  df1['EMP_STATUS'] = df1['EMP_STATUS'].astype('category')\n",
      "<ipython-input-15-9b0ecba27918>:7: SettingWithCopyWarning: \n",
      "A value is trying to be set on a copy of a slice from a DataFrame.\n",
      "Try using .loc[row_indexer,col_indexer] = value instead\n",
      "\n",
      "See the caveats in the documentation: https://pandas.pydata.org/pandas-docs/stable/user_guide/indexing.html#returning-a-view-versus-a-copy\n",
      "  df1['Title1'] = df1['Title1'].astype('category')\n",
      "<ipython-input-15-9b0ecba27918>:8: SettingWithCopyWarning: \n",
      "A value is trying to be set on a copy of a slice from a DataFrame.\n",
      "Try using .loc[row_indexer,col_indexer] = value instead\n",
      "\n",
      "See the caveats in the documentation: https://pandas.pydata.org/pandas-docs/stable/user_guide/indexing.html#returning-a-view-versus-a-copy\n",
      "  df1['RESIGNATION_REASON'] = df1['RESIGNATION_REASON'].astype('category')\n",
      "<ipython-input-15-9b0ecba27918>:9: SettingWithCopyWarning: \n",
      "A value is trying to be set on a copy of a slice from a DataFrame.\n",
      "Try using .loc[row_indexer,col_indexer] = value instead\n",
      "\n",
      "See the caveats in the documentation: https://pandas.pydata.org/pandas-docs/stable/user_guide/indexing.html#returning-a-view-versus-a-copy\n",
      "  df1['OFFICE_NAME'] = df1['OFFICE_NAME'].astype('category')\n",
      "<ipython-input-15-9b0ecba27918>:10: SettingWithCopyWarning: \n",
      "A value is trying to be set on a copy of a slice from a DataFrame.\n",
      "Try using .loc[row_indexer,col_indexer] = value instead\n",
      "\n",
      "See the caveats in the documentation: https://pandas.pydata.org/pandas-docs/stable/user_guide/indexing.html#returning-a-view-versus-a-copy\n",
      "  df1['Office_city'] = df1['Office_city'].astype('category')\n",
      "<ipython-input-15-9b0ecba27918>:11: SettingWithCopyWarning: \n",
      "A value is trying to be set on a copy of a slice from a DataFrame.\n",
      "Try using .loc[row_indexer,col_indexer] = value instead\n",
      "\n",
      "See the caveats in the documentation: https://pandas.pydata.org/pandas-docs/stable/user_guide/indexing.html#returning-a-view-versus-a-copy\n",
      "  df1['Level_NAME'] = df1['Level_NAME'].astype('category')\n",
      "<ipython-input-15-9b0ecba27918>:12: SettingWithCopyWarning: \n",
      "A value is trying to be set on a copy of a slice from a DataFrame.\n",
      "Try using .loc[row_indexer,col_indexer] = value instead\n",
      "\n",
      "See the caveats in the documentation: https://pandas.pydata.org/pandas-docs/stable/user_guide/indexing.html#returning-a-view-versus-a-copy\n",
      "  df1['UNIT_NAME'] = df1['UNIT_NAME'].astype('category')\n",
      "<ipython-input-15-9b0ecba27918>:13: SettingWithCopyWarning: \n",
      "A value is trying to be set on a copy of a slice from a DataFrame.\n",
      "Try using .loc[row_indexer,col_indexer] = value instead\n",
      "\n",
      "See the caveats in the documentation: https://pandas.pydata.org/pandas-docs/stable/user_guide/indexing.html#returning-a-view-versus-a-copy\n",
      "  df1['QUALIFICATION_LEVEL'] = df1['QUALIFICATION_LEVEL'].astype('category')\n",
      "<ipython-input-15-9b0ecba27918>:14: SettingWithCopyWarning: \n",
      "A value is trying to be set on a copy of a slice from a DataFrame.\n",
      "Try using .loc[row_indexer,col_indexer] = value instead\n",
      "\n",
      "See the caveats in the documentation: https://pandas.pydata.org/pandas-docs/stable/user_guide/indexing.html#returning-a-view-versus-a-copy\n",
      "  df1['CLIENT_NAME'] = df1['CLIENT_NAME'].astype('category')\n",
      "<ipython-input-15-9b0ecba27918>:15: SettingWithCopyWarning: \n",
      "A value is trying to be set on a copy of a slice from a DataFrame.\n",
      "Try using .loc[row_indexer,col_indexer] = value instead\n",
      "\n",
      "See the caveats in the documentation: https://pandas.pydata.org/pandas-docs/stable/user_guide/indexing.html#returning-a-view-versus-a-copy\n",
      "  df1['Migration_Status'] = df1['Migration_Status'].astype('category')\n"
     ]
    }
   ],
   "source": [
    "## conert variable datatype to category.\n",
    "\n",
    "df1['GENDER'] = df1['GENDER'].astype('category')\n",
    "df1['Manager_ID'] = df1['Manager_ID'].astype('category')\n",
    "df1['MARITAL_STATUS'] = df1['MARITAL_STATUS'].astype('category')\n",
    "df1['EMP_STATUS'] = df1['EMP_STATUS'].astype('category')\n",
    "df1['Title1'] = df1['Title1'].astype('category')\n",
    "df1['RESIGNATION_REASON'] = df1['RESIGNATION_REASON'].astype('category')\n",
    "df1['OFFICE_NAME'] = df1['OFFICE_NAME'].astype('category')\n",
    "df1['Office_city'] = df1['Office_city'].astype('category')\n",
    "df1['Level_NAME'] = df1['Level_NAME'].astype('category')\n",
    "df1['UNIT_NAME'] = df1['UNIT_NAME'].astype('category')\n",
    "df1['QUALIFICATION_LEVEL'] = df1['QUALIFICATION_LEVEL'].astype('category')\n",
    "df1['CLIENT_NAME'] = df1['CLIENT_NAME'].astype('category')\n",
    "df1['Migration_Status'] = df1['Migration_Status'].astype('category')"
   ]
  },
  {
   "cell_type": "code",
   "execution_count": 16,
   "metadata": {},
   "outputs": [
    {
     "name": "stderr",
     "output_type": "stream",
     "text": [
      "<ipython-input-16-784441b173b6>:1: FutureWarning: Treating datetime data as categorical rather than numeric in `.describe` is deprecated and will be removed in a future version of pandas. Specify `datetime_is_numeric=True` to silence this warning and adopt the future behavior now.\n",
      "  df1.describe()\n",
      "<ipython-input-16-784441b173b6>:1: FutureWarning: Treating datetime data as categorical rather than numeric in `.describe` is deprecated and will be removed in a future version of pandas. Specify `datetime_is_numeric=True` to silence this warning and adopt the future behavior now.\n",
      "  df1.describe()\n",
      "<ipython-input-16-784441b173b6>:1: FutureWarning: Treating datetime data as categorical rather than numeric in `.describe` is deprecated and will be removed in a future version of pandas. Specify `datetime_is_numeric=True` to silence this warning and adopt the future behavior now.\n",
      "  df1.describe()\n"
     ]
    },
    {
     "data": {
      "text/html": [
       "<div>\n",
       "<style scoped>\n",
       "    .dataframe tbody tr th:only-of-type {\n",
       "        vertical-align: middle;\n",
       "    }\n",
       "\n",
       "    .dataframe tbody tr th {\n",
       "        vertical-align: top;\n",
       "    }\n",
       "\n",
       "    .dataframe thead th {\n",
       "        text-align: right;\n",
       "    }\n",
       "</style>\n",
       "<table border=\"1\" class=\"dataframe\">\n",
       "  <thead>\n",
       "    <tr style=\"text-align: right;\">\n",
       "      <th></th>\n",
       "      <th>EMP_ID</th>\n",
       "      <th>Manager_ID</th>\n",
       "      <th>GENDER</th>\n",
       "      <th>DATE_OF_BIRTH</th>\n",
       "      <th>DATE_OF_JOIN</th>\n",
       "      <th>MARITAL_STATUS</th>\n",
       "      <th>P_CITY_NAME</th>\n",
       "      <th>LAST_DATE</th>\n",
       "      <th>EMP_STATUS</th>\n",
       "      <th>Title1</th>\n",
       "      <th>Latest_Rating</th>\n",
       "      <th>RESIGNATION_REASON</th>\n",
       "      <th>OFFICE_NAME</th>\n",
       "      <th>Office_city</th>\n",
       "      <th>Level_NAME</th>\n",
       "      <th>UNIT_NAME</th>\n",
       "      <th>QUALIFICATION_LEVEL</th>\n",
       "      <th>CLIENT_NAME</th>\n",
       "      <th>Migration_Status</th>\n",
       "    </tr>\n",
       "  </thead>\n",
       "  <tbody>\n",
       "    <tr>\n",
       "      <th>count</th>\n",
       "      <td>142748</td>\n",
       "      <td>142748</td>\n",
       "      <td>142748</td>\n",
       "      <td>142748</td>\n",
       "      <td>142748</td>\n",
       "      <td>142748</td>\n",
       "      <td>142748</td>\n",
       "      <td>125252</td>\n",
       "      <td>142748</td>\n",
       "      <td>142748</td>\n",
       "      <td>142748.0</td>\n",
       "      <td>142748</td>\n",
       "      <td>142748</td>\n",
       "      <td>142748</td>\n",
       "      <td>142748</td>\n",
       "      <td>142748</td>\n",
       "      <td>142748</td>\n",
       "      <td>142748</td>\n",
       "      <td>142748.0</td>\n",
       "    </tr>\n",
       "    <tr>\n",
       "      <th>unique</th>\n",
       "      <td>142746</td>\n",
       "      <td>5047</td>\n",
       "      <td>3</td>\n",
       "      <td>8635</td>\n",
       "      <td>3578</td>\n",
       "      <td>10</td>\n",
       "      <td>347</td>\n",
       "      <td>3398</td>\n",
       "      <td>2</td>\n",
       "      <td>23</td>\n",
       "      <td>9.0</td>\n",
       "      <td>4</td>\n",
       "      <td>64</td>\n",
       "      <td>21</td>\n",
       "      <td>1</td>\n",
       "      <td>5</td>\n",
       "      <td>5</td>\n",
       "      <td>14</td>\n",
       "      <td>2.0</td>\n",
       "    </tr>\n",
       "    <tr>\n",
       "      <th>top</th>\n",
       "      <td>108597</td>\n",
       "      <td>9674</td>\n",
       "      <td>MALE</td>\n",
       "      <td>1947-08-15 00:00:00</td>\n",
       "      <td>2015-09-01 00:00:00</td>\n",
       "      <td>S</td>\n",
       "      <td>NULL</td>\n",
       "      <td>2007-10-11 00:00:00</td>\n",
       "      <td>InActive</td>\n",
       "      <td>Officer</td>\n",
       "      <td>3.0</td>\n",
       "      <td>Enjoyed time in HGS but moving to different city</td>\n",
       "      <td>Chennai</td>\n",
       "      <td>Bangalore</td>\n",
       "      <td>Non Management</td>\n",
       "      <td>Domestic</td>\n",
       "      <td>Masters</td>\n",
       "      <td>Tel-Airtel</td>\n",
       "      <td>1.0</td>\n",
       "    </tr>\n",
       "    <tr>\n",
       "      <th>freq</th>\n",
       "      <td>2</td>\n",
       "      <td>908</td>\n",
       "      <td>102490</td>\n",
       "      <td>389</td>\n",
       "      <td>3042</td>\n",
       "      <td>126754</td>\n",
       "      <td>23430</td>\n",
       "      <td>406</td>\n",
       "      <td>125252</td>\n",
       "      <td>111814</td>\n",
       "      <td>47308.0</td>\n",
       "      <td>52036</td>\n",
       "      <td>20005</td>\n",
       "      <td>42094</td>\n",
       "      <td>142748</td>\n",
       "      <td>120729</td>\n",
       "      <td>125574</td>\n",
       "      <td>91035</td>\n",
       "      <td>74015.0</td>\n",
       "    </tr>\n",
       "    <tr>\n",
       "      <th>first</th>\n",
       "      <td>NaN</td>\n",
       "      <td>NaN</td>\n",
       "      <td>NaN</td>\n",
       "      <td>1947-06-01 00:00:00</td>\n",
       "      <td>1984-12-15 00:00:00</td>\n",
       "      <td>NaN</td>\n",
       "      <td>NaN</td>\n",
       "      <td>2006-03-14 00:00:00</td>\n",
       "      <td>NaN</td>\n",
       "      <td>NaN</td>\n",
       "      <td>NaN</td>\n",
       "      <td>NaN</td>\n",
       "      <td>NaN</td>\n",
       "      <td>NaN</td>\n",
       "      <td>NaN</td>\n",
       "      <td>NaN</td>\n",
       "      <td>NaN</td>\n",
       "      <td>NaN</td>\n",
       "      <td>NaN</td>\n",
       "    </tr>\n",
       "    <tr>\n",
       "      <th>last</th>\n",
       "      <td>NaN</td>\n",
       "      <td>NaN</td>\n",
       "      <td>NaN</td>\n",
       "      <td>2007-10-17 00:00:00</td>\n",
       "      <td>2017-04-25 00:00:00</td>\n",
       "      <td>NaN</td>\n",
       "      <td>NaN</td>\n",
       "      <td>2017-04-26 00:00:00</td>\n",
       "      <td>NaN</td>\n",
       "      <td>NaN</td>\n",
       "      <td>NaN</td>\n",
       "      <td>NaN</td>\n",
       "      <td>NaN</td>\n",
       "      <td>NaN</td>\n",
       "      <td>NaN</td>\n",
       "      <td>NaN</td>\n",
       "      <td>NaN</td>\n",
       "      <td>NaN</td>\n",
       "      <td>NaN</td>\n",
       "    </tr>\n",
       "  </tbody>\n",
       "</table>\n",
       "</div>"
      ],
      "text/plain": [
       "        EMP_ID Manager_ID  GENDER        DATE_OF_BIRTH         DATE_OF_JOIN  \\\n",
       "count   142748     142748  142748               142748               142748   \n",
       "unique  142746       5047       3                 8635                 3578   \n",
       "top     108597       9674    MALE  1947-08-15 00:00:00  2015-09-01 00:00:00   \n",
       "freq         2        908  102490                  389                 3042   \n",
       "first      NaN        NaN     NaN  1947-06-01 00:00:00  1984-12-15 00:00:00   \n",
       "last       NaN        NaN     NaN  2007-10-17 00:00:00  2017-04-25 00:00:00   \n",
       "\n",
       "       MARITAL_STATUS P_CITY_NAME            LAST_DATE EMP_STATUS   Title1  \\\n",
       "count          142748      142748               125252     142748   142748   \n",
       "unique             10         347                 3398          2       23   \n",
       "top                 S        NULL  2007-10-11 00:00:00   InActive  Officer   \n",
       "freq           126754       23430                  406     125252   111814   \n",
       "first             NaN         NaN  2006-03-14 00:00:00        NaN      NaN   \n",
       "last              NaN         NaN  2017-04-26 00:00:00        NaN      NaN   \n",
       "\n",
       "        Latest_Rating                                RESIGNATION_REASON  \\\n",
       "count        142748.0                                            142748   \n",
       "unique            9.0                                                 4   \n",
       "top               3.0  Enjoyed time in HGS but moving to different city   \n",
       "freq          47308.0                                             52036   \n",
       "first             NaN                                               NaN   \n",
       "last              NaN                                               NaN   \n",
       "\n",
       "       OFFICE_NAME Office_city      Level_NAME UNIT_NAME QUALIFICATION_LEVEL  \\\n",
       "count       142748      142748          142748    142748              142748   \n",
       "unique          64          21               1         5                   5   \n",
       "top        Chennai   Bangalore  Non Management  Domestic             Masters   \n",
       "freq         20005       42094          142748    120729              125574   \n",
       "first          NaN         NaN             NaN       NaN                 NaN   \n",
       "last           NaN         NaN             NaN       NaN                 NaN   \n",
       "\n",
       "       CLIENT_NAME  Migration_Status  \n",
       "count       142748          142748.0  \n",
       "unique          14               2.0  \n",
       "top     Tel-Airtel               1.0  \n",
       "freq         91035           74015.0  \n",
       "first          NaN               NaN  \n",
       "last           NaN               NaN  "
      ]
     },
     "execution_count": 16,
     "metadata": {},
     "output_type": "execute_result"
    }
   ],
   "source": [
    "df1.describe()"
   ]
  },
  {
   "cell_type": "code",
   "execution_count": 17,
   "metadata": {},
   "outputs": [
    {
     "name": "stdout",
     "output_type": "stream",
     "text": [
      "2017-04-25 00:00:00\n"
     ]
    }
   ],
   "source": [
    "## the recent date of joining.\n",
    "\n",
    "Max_date=max(df1['DATE_OF_JOIN'])\n",
    "print(Max_date)"
   ]
  },
  {
   "cell_type": "code",
   "execution_count": 18,
   "metadata": {},
   "outputs": [
    {
     "name": "stdout",
     "output_type": "stream",
     "text": [
      "0         795.0\n",
      "1         243.0\n",
      "2         644.0\n",
      "3         501.0\n",
      "4         506.0\n",
      "          ...  \n",
      "142743    599.0\n",
      "142744    246.0\n",
      "142745    170.0\n",
      "142746    260.0\n",
      "142747    182.0\n",
      "Name: Tenure, Length: 142748, dtype: float64\n"
     ]
    },
    {
     "name": "stderr",
     "output_type": "stream",
     "text": [
      "<ipython-input-18-6718ee4bbb03>:3: SettingWithCopyWarning: \n",
      "A value is trying to be set on a copy of a slice from a DataFrame.\n",
      "Try using .loc[row_indexer,col_indexer] = value instead\n",
      "\n",
      "See the caveats in the documentation: https://pandas.pydata.org/pandas-docs/stable/user_guide/indexing.html#returning-a-view-versus-a-copy\n",
      "  df1[\"Tenure\"]= np.where((df1.EMP_STATUS ==\"InActive\"), (df1[\"LAST_DATE\"].sub(df1['DATE_OF_JOIN'], axis=0)), (-(df1[\"DATE_OF_JOIN\"].sub(max(df1['DATE_OF_JOIN']), axis=0))))\n",
      "<ipython-input-18-6718ee4bbb03>:4: SettingWithCopyWarning: \n",
      "A value is trying to be set on a copy of a slice from a DataFrame.\n",
      "Try using .loc[row_indexer,col_indexer] = value instead\n",
      "\n",
      "See the caveats in the documentation: https://pandas.pydata.org/pandas-docs/stable/user_guide/indexing.html#returning-a-view-versus-a-copy\n",
      "  df1[\"Tenure\"]=df1[\"Tenure\"] / np.timedelta64(1, 'D')\n"
     ]
    }
   ],
   "source": [
    "## represent the worked tenure into days.\n",
    "\n",
    "df1[\"Tenure\"]= np.where((df1.EMP_STATUS ==\"InActive\"), (df1[\"LAST_DATE\"].sub(df1['DATE_OF_JOIN'], axis=0)), (-(df1[\"DATE_OF_JOIN\"].sub(max(df1['DATE_OF_JOIN']), axis=0))))\n",
    "df1[\"Tenure\"]=df1[\"Tenure\"] / np.timedelta64(1, 'D')\n",
    "print(df1[\"Tenure\"])\n"
   ]
  },
  {
   "cell_type": "code",
   "execution_count": 19,
   "metadata": {},
   "outputs": [
    {
     "name": "stdout",
     "output_type": "stream",
     "text": [
      "0         25.0\n",
      "1         24.0\n",
      "2          7.0\n",
      "3         27.0\n",
      "4         25.0\n",
      "          ... \n",
      "142743    23.0\n",
      "142744    22.0\n",
      "142745    22.0\n",
      "142746    24.0\n",
      "142747    27.0\n",
      "Name: Age, Length: 142748, dtype: float64\n"
     ]
    },
    {
     "name": "stderr",
     "output_type": "stream",
     "text": [
      "<ipython-input-19-082e870e8976>:3: SettingWithCopyWarning: \n",
      "A value is trying to be set on a copy of a slice from a DataFrame.\n",
      "Try using .loc[row_indexer,col_indexer] = value instead\n",
      "\n",
      "See the caveats in the documentation: https://pandas.pydata.org/pandas-docs/stable/user_guide/indexing.html#returning-a-view-versus-a-copy\n",
      "  df1[\"Age\"]= np.where((df1.EMP_STATUS ==\"InActive\"), (df1[\"LAST_DATE\"].sub(df1['DATE_OF_BIRTH'], axis=0)), (-(df1[\"DATE_OF_BIRTH\"].sub(max(df1['DATE_OF_JOIN']), axis=0))))\n",
      "<ipython-input-19-082e870e8976>:4: SettingWithCopyWarning: \n",
      "A value is trying to be set on a copy of a slice from a DataFrame.\n",
      "Try using .loc[row_indexer,col_indexer] = value instead\n",
      "\n",
      "See the caveats in the documentation: https://pandas.pydata.org/pandas-docs/stable/user_guide/indexing.html#returning-a-view-versus-a-copy\n",
      "  df1[\"Age\"]=round((df1[\"Age\"] / np.timedelta64(1, 'D'))/365,0)\n"
     ]
    }
   ],
   "source": [
    "## calaulate the Age \n",
    "\n",
    "df1[\"Age\"]= np.where((df1.EMP_STATUS ==\"InActive\"), (df1[\"LAST_DATE\"].sub(df1['DATE_OF_BIRTH'], axis=0)), (-(df1[\"DATE_OF_BIRTH\"].sub(max(df1['DATE_OF_JOIN']), axis=0))))\n",
    "df1[\"Age\"]=round((df1[\"Age\"] / np.timedelta64(1, 'D'))/365,0)\n",
    "print(df1[\"Age\"])"
   ]
  },
  {
   "cell_type": "code",
   "execution_count": 20,
   "metadata": {},
   "outputs": [
    {
     "data": {
      "text/plain": [
       "<AxesSubplot:xlabel='EMP_STATUS', ylabel='Age'>"
      ]
     },
     "execution_count": 20,
     "metadata": {},
     "output_type": "execute_result"
    },
    {
     "data": {
      "image/png": "[encoded data removed]",
      "text/plain": [
       "<Figure size 432x288 with 1 Axes>"
      ]
     },
     "metadata": {
      "needs_background": "light"
     },
     "output_type": "display_data"
    }
   ],
   "source": [
    "## distrubution of emp wrt Age\n",
    "\n",
    "sns.violinplot(x=\"EMP_STATUS\", y=\"Age\", data=df1,palette='rainbow')"
   ]
  },
  {
   "cell_type": "code",
   "execution_count": 21,
   "metadata": {},
   "outputs": [
    {
     "name": "stdout",
     "output_type": "stream",
     "text": [
      "136282\n"
     ]
    }
   ],
   "source": [
    "## count of age bet 18 to 30\n",
    "\n",
    "df1=df1[(df1[\"Age\"]>=18) & (df1[\"Age\"]<=30)]\n",
    "print(len(df1))"
   ]
  },
  {
   "cell_type": "code",
   "execution_count": 22,
   "metadata": {},
   "outputs": [
    {
     "data": {
      "text/plain": [
       "<AxesSubplot:xlabel='EMP_STATUS', ylabel='Tenure'>"
      ]
     },
     "execution_count": 22,
     "metadata": {},
     "output_type": "execute_result"
    },
    {
     "data": {
      "image/png": "[encoded data removed]",
      "text/plain": [
       "<Figure size 432x288 with 1 Axes>"
      ]
     },
     "metadata": {
      "needs_background": "light"
     },
     "output_type": "display_data"
    }
   ],
   "source": [
    "## distrubution of emp wrt Teunre\n",
    "\n",
    "sns.violinplot(x=\"EMP_STATUS\", y=\"Tenure\", data=df1,palette='rainbow')"
   ]
  },
  {
   "cell_type": "code",
   "execution_count": 23,
   "metadata": {},
   "outputs": [
    {
     "name": "stdout",
     "output_type": "stream",
     "text": [
      "130931\n"
     ]
    }
   ],
   "source": [
    "df1=df1[(df1[\"Tenure\"]>=0) & (df1[\"Tenure\"]<=1000)]\n",
    "print(len(df1))"
   ]
  },
  {
   "cell_type": "code",
   "execution_count": 24,
   "metadata": {},
   "outputs": [],
   "source": [
    "## creating bin wrt age \n",
    "\n",
    "df1[\"Tenure_bins\"]= np.where(((df1.Tenure >=0) & (df1.Tenure <=30)) ,\"Tenure 0-30\", np.where(((df1.Tenure >30) & (df1.Tenure <=60)) ,\"Tenure 31-60\", np.where(((df1.Tenure >60) & (df1.Tenure <=90)) ,\"Tenure 61-100\", np.where(((df1.Tenure >100) & (df1.Tenure <=130)) ,\"Tenure 101-130\",np.where(((df1.Tenure >131) & (df1.Tenure <=160)) ,\"Tenure 131-160\",np.where(((df1.Tenure >160) & (df1.Tenure <=200)) ,\"Tenure 161-200\",np.where(((df1.Tenure >200) & (df1.Tenure <=230)) ,\"Tenure 201-230\",np.where(((df1.Tenure >230) & (df1.Tenure <=260)) ,\"Tenure 231-260\",np.where(((df1.Tenure >260) & (df1.Tenure <=300)) ,\"Tenure 261-300\",np.where(((df1.Tenure >300) & (df1.Tenure <=330)) ,\"Tenure 301-330\",np.where(((df1.Tenure >330) & (df1.Tenure <=365)) ,\"Tenure 331-365\",\"Tenure more than 365\")))))))))))"
   ]
  },
  {
   "cell_type": "code",
   "execution_count": 25,
   "metadata": {},
   "outputs": [
    {
     "name": "stdout",
     "output_type": "stream",
     "text": [
      "0         Tenure more than 365\n",
      "1               Tenure 231-260\n",
      "3         Tenure more than 365\n",
      "4         Tenure more than 365\n",
      "5               Tenure 261-300\n",
      "                  ...         \n",
      "142743    Tenure more than 365\n",
      "142744          Tenure 231-260\n",
      "142745          Tenure 161-200\n",
      "142746          Tenure 231-260\n",
      "142747          Tenure 161-200\n",
      "Name: Tenure_bins, Length: 130931, dtype: object\n"
     ]
    }
   ],
   "source": [
    "## bin crerated values\n",
    "\n",
    "print(df1[\"Tenure_bins\"])"
   ]
  },
  {
   "cell_type": "code",
   "execution_count": 26,
   "metadata": {},
   "outputs": [],
   "source": [
    "## convert datatyoe of Tenure_bins to category \n",
    "\n",
    "df1[\"Tenure_bins\"] = df1[\"Tenure_bins\"].astype('category')"
   ]
  },
  {
   "cell_type": "code",
   "execution_count": 27,
   "metadata": {},
   "outputs": [
    {
     "data": {
      "text/html": [
       "<div>\n",
       "<style scoped>\n",
       "    .dataframe tbody tr th:only-of-type {\n",
       "        vertical-align: middle;\n",
       "    }\n",
       "\n",
       "    .dataframe tbody tr th {\n",
       "        vertical-align: top;\n",
       "    }\n",
       "\n",
       "    .dataframe thead th {\n",
       "        text-align: right;\n",
       "    }\n",
       "</style>\n",
       "<table border=\"1\" class=\"dataframe\">\n",
       "  <thead>\n",
       "    <tr style=\"text-align: right;\">\n",
       "      <th></th>\n",
       "      <th>ACTIVE</th>\n",
       "      <th>INACTIVE</th>\n",
       "    </tr>\n",
       "    <tr>\n",
       "      <th>Tenure_bins</th>\n",
       "      <th></th>\n",
       "      <th></th>\n",
       "    </tr>\n",
       "  </thead>\n",
       "  <tbody>\n",
       "    <tr>\n",
       "      <th>Tenure 0-30</th>\n",
       "      <td>1172</td>\n",
       "      <td>10795</td>\n",
       "    </tr>\n",
       "    <tr>\n",
       "      <th>Tenure 101-130</th>\n",
       "      <td>708</td>\n",
       "      <td>10615</td>\n",
       "    </tr>\n",
       "    <tr>\n",
       "      <th>Tenure 131-160</th>\n",
       "      <td>596</td>\n",
       "      <td>7326</td>\n",
       "    </tr>\n",
       "    <tr>\n",
       "      <th>Tenure 161-200</th>\n",
       "      <td>801</td>\n",
       "      <td>7505</td>\n",
       "    </tr>\n",
       "    <tr>\n",
       "      <th>Tenure 201-230</th>\n",
       "      <td>764</td>\n",
       "      <td>4914</td>\n",
       "    </tr>\n",
       "    <tr>\n",
       "      <th>Tenure 231-260</th>\n",
       "      <td>554</td>\n",
       "      <td>4314</td>\n",
       "    </tr>\n",
       "    <tr>\n",
       "      <th>Tenure 261-300</th>\n",
       "      <td>816</td>\n",
       "      <td>4506</td>\n",
       "    </tr>\n",
       "    <tr>\n",
       "      <th>Tenure 301-330</th>\n",
       "      <td>534</td>\n",
       "      <td>2638</td>\n",
       "    </tr>\n",
       "    <tr>\n",
       "      <th>Tenure 31-60</th>\n",
       "      <td>1083</td>\n",
       "      <td>17642</td>\n",
       "    </tr>\n",
       "    <tr>\n",
       "      <th>Tenure 331-365</th>\n",
       "      <td>513</td>\n",
       "      <td>2494</td>\n",
       "    </tr>\n",
       "    <tr>\n",
       "      <th>Tenure 61-100</th>\n",
       "      <td>947</td>\n",
       "      <td>16625</td>\n",
       "    </tr>\n",
       "    <tr>\n",
       "      <th>Tenure more than 365</th>\n",
       "      <td>6476</td>\n",
       "      <td>26593</td>\n",
       "    </tr>\n",
       "  </tbody>\n",
       "</table>\n",
       "</div>"
      ],
      "text/plain": [
       "                      ACTIVE  INACTIVE\n",
       "Tenure_bins                           \n",
       "Tenure 0-30             1172     10795\n",
       "Tenure 101-130           708     10615\n",
       "Tenure 131-160           596      7326\n",
       "Tenure 161-200           801      7505\n",
       "Tenure 201-230           764      4914\n",
       "Tenure 231-260           554      4314\n",
       "Tenure 261-300           816      4506\n",
       "Tenure 301-330           534      2638\n",
       "Tenure 31-60            1083     17642\n",
       "Tenure 331-365           513      2494\n",
       "Tenure 61-100            947     16625\n",
       "Tenure more than 365    6476     26593"
      ]
     },
     "execution_count": 27,
     "metadata": {},
     "output_type": "execute_result"
    }
   ],
   "source": [
    "# Table of Tenure_bins vs. EMP_STATUS\n",
    "\n",
    "survived_class = pd.crosstab(index=df1[\"Tenure_bins\"], \n",
    "                           columns=df1[\"EMP_STATUS\"])\n",
    "\n",
    "\n",
    "survived_class.columns= [\"ACTIVE\",\"INACTIVE\"]\n",
    "survived_class"
   ]
  },
  {
   "cell_type": "code",
   "execution_count": 28,
   "metadata": {},
   "outputs": [
    {
     "data": {
      "text/html": [
       "<div>\n",
       "<style scoped>\n",
       "    .dataframe tbody tr th:only-of-type {\n",
       "        vertical-align: middle;\n",
       "    }\n",
       "\n",
       "    .dataframe tbody tr th {\n",
       "        vertical-align: top;\n",
       "    }\n",
       "\n",
       "    .dataframe thead th {\n",
       "        text-align: right;\n",
       "    }\n",
       "</style>\n",
       "<table border=\"1\" class=\"dataframe\">\n",
       "  <thead>\n",
       "    <tr style=\"text-align: right;\">\n",
       "      <th></th>\n",
       "      <th>ACTIVE</th>\n",
       "      <th>INACTIVE</th>\n",
       "    </tr>\n",
       "    <tr>\n",
       "      <th>Level_NAME</th>\n",
       "      <th></th>\n",
       "      <th></th>\n",
       "    </tr>\n",
       "  </thead>\n",
       "  <tbody>\n",
       "    <tr>\n",
       "      <th>Non Management</th>\n",
       "      <td>14964</td>\n",
       "      <td>115967</td>\n",
       "    </tr>\n",
       "  </tbody>\n",
       "</table>\n",
       "</div>"
      ],
      "text/plain": [
       "                ACTIVE  INACTIVE\n",
       "Level_NAME                      \n",
       "Non Management   14964    115967"
      ]
     },
     "execution_count": 28,
     "metadata": {},
     "output_type": "execute_result"
    }
   ],
   "source": [
    "# Table of Level_NAME vs. EMP_STATUS\n",
    "\n",
    "survived_class = pd.crosstab(index=df1[\"Level_NAME\"], \n",
    "                           columns=df1[\"EMP_STATUS\"])\n",
    "\n",
    "\n",
    "survived_class.columns= [\"ACTIVE\",\"INACTIVE\"]\n",
    "survived_class"
   ]
  },
  {
   "cell_type": "code",
   "execution_count": 29,
   "metadata": {},
   "outputs": [
    {
     "data": {
      "text/html": [
       "<div>\n",
       "<style scoped>\n",
       "    .dataframe tbody tr th:only-of-type {\n",
       "        vertical-align: middle;\n",
       "    }\n",
       "\n",
       "    .dataframe tbody tr th {\n",
       "        vertical-align: top;\n",
       "    }\n",
       "\n",
       "    .dataframe thead th {\n",
       "        text-align: right;\n",
       "    }\n",
       "</style>\n",
       "<table border=\"1\" class=\"dataframe\">\n",
       "  <thead>\n",
       "    <tr style=\"text-align: right;\">\n",
       "      <th></th>\n",
       "      <th>ACTIVE</th>\n",
       "      <th>INACTIVE</th>\n",
       "    </tr>\n",
       "    <tr>\n",
       "      <th>UNIT_NAME</th>\n",
       "      <th></th>\n",
       "      <th></th>\n",
       "    </tr>\n",
       "  </thead>\n",
       "  <tbody>\n",
       "    <tr>\n",
       "      <th>Domestic</th>\n",
       "      <td>9946</td>\n",
       "      <td>101614</td>\n",
       "    </tr>\n",
       "    <tr>\n",
       "      <th>International Data</th>\n",
       "      <td>4633</td>\n",
       "      <td>10368</td>\n",
       "    </tr>\n",
       "    <tr>\n",
       "      <th>International Voice</th>\n",
       "      <td>195</td>\n",
       "      <td>3427</td>\n",
       "    </tr>\n",
       "    <tr>\n",
       "      <th>MENA</th>\n",
       "      <td>146</td>\n",
       "      <td>448</td>\n",
       "    </tr>\n",
       "    <tr>\n",
       "      <th>Strategic Initiatives</th>\n",
       "      <td>44</td>\n",
       "      <td>110</td>\n",
       "    </tr>\n",
       "  </tbody>\n",
       "</table>\n",
       "</div>"
      ],
      "text/plain": [
       "                       ACTIVE  INACTIVE\n",
       "UNIT_NAME                              \n",
       "Domestic                 9946    101614\n",
       "International Data       4633     10368\n",
       "International Voice       195      3427\n",
       "MENA                      146       448\n",
       "Strategic Initiatives      44       110"
      ]
     },
     "execution_count": 29,
     "metadata": {},
     "output_type": "execute_result"
    }
   ],
   "source": [
    "# Table of UNIT_NAME vs. EMP_STATUS\n",
    "\n",
    "survived_class = pd.crosstab(index=df1[\"UNIT_NAME\"], \n",
    "                           columns=df1[\"EMP_STATUS\"])\n",
    "\n",
    "\n",
    "survived_class.columns= [\"ACTIVE\",\"INACTIVE\"]\n",
    "survived_class "
   ]
  },
  {
   "cell_type": "code",
   "execution_count": 30,
   "metadata": {},
   "outputs": [
    {
     "name": "stdout",
     "output_type": "stream",
     "text": [
      "130931\n",
      "0.8762320315262101\n"
     ]
    }
   ],
   "source": [
    "print(len(df1))\n",
    "print(101614/115967)"
   ]
  },
  {
   "cell_type": "code",
   "execution_count": 31,
   "metadata": {},
   "outputs": [
    {
     "data": {
      "text/plain": [
       "111560"
      ]
     },
     "execution_count": 31,
     "metadata": {},
     "output_type": "execute_result"
    }
   ],
   "source": [
    "## Domestic emp count \n",
    "\n",
    "df1=df1[df1[\"UNIT_NAME\"]==\"Domestic\"]\n",
    "len(df1)"
   ]
  },
  {
   "cell_type": "code",
   "execution_count": 32,
   "metadata": {},
   "outputs": [],
   "source": [
    "## assinging values to df2\n",
    "\n",
    "df2=df1[['EMP_STATUS','Manager_ID','GENDER','MARITAL_STATUS','P_CITY_NAME','RESIGNATION_REASON','OFFICE_NAME','Office_city','Tenure_bins','CLIENT_NAME','QUALIFICATION_LEVEL',\"Age\",\"Tenure\",\"Migration_Status\",\"Latest_Rating\",\"Title1\"]]"
   ]
  },
  {
   "cell_type": "code",
   "execution_count": 33,
   "metadata": {},
   "outputs": [
    {
     "data": {
      "text/html": [
       "<div>\n",
       "<style scoped>\n",
       "    .dataframe tbody tr th:only-of-type {\n",
       "        vertical-align: middle;\n",
       "    }\n",
       "\n",
       "    .dataframe tbody tr th {\n",
       "        vertical-align: top;\n",
       "    }\n",
       "\n",
       "    .dataframe thead th {\n",
       "        text-align: right;\n",
       "    }\n",
       "</style>\n",
       "<table border=\"1\" class=\"dataframe\">\n",
       "  <thead>\n",
       "    <tr style=\"text-align: right;\">\n",
       "      <th></th>\n",
       "      <th>EMP_STATUS</th>\n",
       "      <th>Manager_ID</th>\n",
       "      <th>GENDER</th>\n",
       "      <th>MARITAL_STATUS</th>\n",
       "      <th>P_CITY_NAME</th>\n",
       "      <th>RESIGNATION_REASON</th>\n",
       "      <th>OFFICE_NAME</th>\n",
       "      <th>Office_city</th>\n",
       "      <th>Tenure_bins</th>\n",
       "      <th>CLIENT_NAME</th>\n",
       "      <th>QUALIFICATION_LEVEL</th>\n",
       "      <th>Age</th>\n",
       "      <th>Tenure</th>\n",
       "      <th>Migration_Status</th>\n",
       "      <th>Latest_Rating</th>\n",
       "      <th>Title1</th>\n",
       "    </tr>\n",
       "  </thead>\n",
       "  <tbody>\n",
       "    <tr>\n",
       "      <th>EMP_STATUS</th>\n",
       "      <td>1.000000</td>\n",
       "      <td>-0.071485</td>\n",
       "      <td>-0.094330</td>\n",
       "      <td>0.133134</td>\n",
       "      <td>0.015824</td>\n",
       "      <td>0.394158</td>\n",
       "      <td>0.060530</td>\n",
       "      <td>0.034308</td>\n",
       "      <td>-0.118047</td>\n",
       "      <td>0.087724</td>\n",
       "      <td>0.444478</td>\n",
       "      <td>-0.056489</td>\n",
       "      <td>-0.014408</td>\n",
       "      <td>-0.076433</td>\n",
       "      <td>-0.224739</td>\n",
       "      <td>0.050037</td>\n",
       "    </tr>\n",
       "    <tr>\n",
       "      <th>Manager_ID</th>\n",
       "      <td>-0.071485</td>\n",
       "      <td>1.000000</td>\n",
       "      <td>0.040216</td>\n",
       "      <td>-0.087056</td>\n",
       "      <td>0.054141</td>\n",
       "      <td>-0.035177</td>\n",
       "      <td>0.128255</td>\n",
       "      <td>0.178046</td>\n",
       "      <td>0.016525</td>\n",
       "      <td>-0.093661</td>\n",
       "      <td>-0.092291</td>\n",
       "      <td>0.024223</td>\n",
       "      <td>0.046268</td>\n",
       "      <td>0.047133</td>\n",
       "      <td>0.031396</td>\n",
       "      <td>-0.068219</td>\n",
       "    </tr>\n",
       "    <tr>\n",
       "      <th>GENDER</th>\n",
       "      <td>-0.094330</td>\n",
       "      <td>0.040216</td>\n",
       "      <td>1.000000</td>\n",
       "      <td>-0.077181</td>\n",
       "      <td>0.047057</td>\n",
       "      <td>-0.018936</td>\n",
       "      <td>0.024261</td>\n",
       "      <td>0.063028</td>\n",
       "      <td>0.061307</td>\n",
       "      <td>-0.087762</td>\n",
       "      <td>-0.046291</td>\n",
       "      <td>-0.013094</td>\n",
       "      <td>-0.010087</td>\n",
       "      <td>-0.052732</td>\n",
       "      <td>0.018003</td>\n",
       "      <td>-0.011296</td>\n",
       "    </tr>\n",
       "    <tr>\n",
       "      <th>MARITAL_STATUS</th>\n",
       "      <td>0.133134</td>\n",
       "      <td>-0.087056</td>\n",
       "      <td>-0.077181</td>\n",
       "      <td>1.000000</td>\n",
       "      <td>-0.073712</td>\n",
       "      <td>0.161698</td>\n",
       "      <td>0.037012</td>\n",
       "      <td>0.112251</td>\n",
       "      <td>-0.068525</td>\n",
       "      <td>0.106906</td>\n",
       "      <td>0.193290</td>\n",
       "      <td>-0.053545</td>\n",
       "      <td>-0.082851</td>\n",
       "      <td>-0.085437</td>\n",
       "      <td>-0.035361</td>\n",
       "      <td>0.030185</td>\n",
       "    </tr>\n",
       "    <tr>\n",
       "      <th>P_CITY_NAME</th>\n",
       "      <td>0.015824</td>\n",
       "      <td>0.054141</td>\n",
       "      <td>0.047057</td>\n",
       "      <td>-0.073712</td>\n",
       "      <td>1.000000</td>\n",
       "      <td>-0.017297</td>\n",
       "      <td>-0.004894</td>\n",
       "      <td>-0.031493</td>\n",
       "      <td>0.036495</td>\n",
       "      <td>-0.045221</td>\n",
       "      <td>-0.022184</td>\n",
       "      <td>-0.051635</td>\n",
       "      <td>0.012370</td>\n",
       "      <td>-0.372434</td>\n",
       "      <td>-0.001907</td>\n",
       "      <td>-0.041494</td>\n",
       "    </tr>\n",
       "    <tr>\n",
       "      <th>RESIGNATION_REASON</th>\n",
       "      <td>0.394158</td>\n",
       "      <td>-0.035177</td>\n",
       "      <td>-0.018936</td>\n",
       "      <td>0.161698</td>\n",
       "      <td>-0.017297</td>\n",
       "      <td>1.000000</td>\n",
       "      <td>0.014799</td>\n",
       "      <td>0.024240</td>\n",
       "      <td>-0.045616</td>\n",
       "      <td>0.031807</td>\n",
       "      <td>0.305883</td>\n",
       "      <td>-0.048301</td>\n",
       "      <td>-0.037870</td>\n",
       "      <td>-0.080588</td>\n",
       "      <td>-0.089862</td>\n",
       "      <td>0.088533</td>\n",
       "    </tr>\n",
       "    <tr>\n",
       "      <th>OFFICE_NAME</th>\n",
       "      <td>0.060530</td>\n",
       "      <td>0.128255</td>\n",
       "      <td>0.024261</td>\n",
       "      <td>0.037012</td>\n",
       "      <td>-0.004894</td>\n",
       "      <td>0.014799</td>\n",
       "      <td>1.000000</td>\n",
       "      <td>0.686836</td>\n",
       "      <td>-0.010178</td>\n",
       "      <td>0.091108</td>\n",
       "      <td>0.008381</td>\n",
       "      <td>0.014683</td>\n",
       "      <td>0.029507</td>\n",
       "      <td>-0.166234</td>\n",
       "      <td>-0.021026</td>\n",
       "      <td>-0.035981</td>\n",
       "    </tr>\n",
       "    <tr>\n",
       "      <th>Office_city</th>\n",
       "      <td>0.034308</td>\n",
       "      <td>0.178046</td>\n",
       "      <td>0.063028</td>\n",
       "      <td>0.112251</td>\n",
       "      <td>-0.031493</td>\n",
       "      <td>0.024240</td>\n",
       "      <td>0.686836</td>\n",
       "      <td>1.000000</td>\n",
       "      <td>-0.049863</td>\n",
       "      <td>-0.203226</td>\n",
       "      <td>-0.007462</td>\n",
       "      <td>0.036409</td>\n",
       "      <td>0.024784</td>\n",
       "      <td>-0.111448</td>\n",
       "      <td>-0.015529</td>\n",
       "      <td>-0.082166</td>\n",
       "    </tr>\n",
       "    <tr>\n",
       "      <th>Tenure_bins</th>\n",
       "      <td>-0.118047</td>\n",
       "      <td>0.016525</td>\n",
       "      <td>0.061307</td>\n",
       "      <td>-0.068525</td>\n",
       "      <td>0.036495</td>\n",
       "      <td>-0.045616</td>\n",
       "      <td>-0.010178</td>\n",
       "      <td>-0.049863</td>\n",
       "      <td>1.000000</td>\n",
       "      <td>0.007027</td>\n",
       "      <td>-0.089649</td>\n",
       "      <td>0.120484</td>\n",
       "      <td>-0.067980</td>\n",
       "      <td>0.009614</td>\n",
       "      <td>0.025341</td>\n",
       "      <td>-0.085658</td>\n",
       "    </tr>\n",
       "    <tr>\n",
       "      <th>CLIENT_NAME</th>\n",
       "      <td>0.087724</td>\n",
       "      <td>-0.093661</td>\n",
       "      <td>-0.087762</td>\n",
       "      <td>0.106906</td>\n",
       "      <td>-0.045221</td>\n",
       "      <td>0.031807</td>\n",
       "      <td>0.091108</td>\n",
       "      <td>-0.203226</td>\n",
       "      <td>0.007027</td>\n",
       "      <td>1.000000</td>\n",
       "      <td>0.066437</td>\n",
       "      <td>-0.015876</td>\n",
       "      <td>-0.040678</td>\n",
       "      <td>-0.040853</td>\n",
       "      <td>-0.018844</td>\n",
       "      <td>0.053866</td>\n",
       "    </tr>\n",
       "    <tr>\n",
       "      <th>QUALIFICATION_LEVEL</th>\n",
       "      <td>0.444478</td>\n",
       "      <td>-0.092291</td>\n",
       "      <td>-0.046291</td>\n",
       "      <td>0.193290</td>\n",
       "      <td>-0.022184</td>\n",
       "      <td>0.305883</td>\n",
       "      <td>0.008381</td>\n",
       "      <td>-0.007462</td>\n",
       "      <td>-0.089649</td>\n",
       "      <td>0.066437</td>\n",
       "      <td>1.000000</td>\n",
       "      <td>-0.051482</td>\n",
       "      <td>-0.033991</td>\n",
       "      <td>-0.083252</td>\n",
       "      <td>-0.102779</td>\n",
       "      <td>0.048470</td>\n",
       "    </tr>\n",
       "    <tr>\n",
       "      <th>Age</th>\n",
       "      <td>-0.056489</td>\n",
       "      <td>0.024223</td>\n",
       "      <td>-0.013094</td>\n",
       "      <td>-0.053545</td>\n",
       "      <td>-0.051635</td>\n",
       "      <td>-0.048301</td>\n",
       "      <td>0.014683</td>\n",
       "      <td>0.036409</td>\n",
       "      <td>0.120484</td>\n",
       "      <td>-0.015876</td>\n",
       "      <td>-0.051482</td>\n",
       "      <td>1.000000</td>\n",
       "      <td>-0.043483</td>\n",
       "      <td>0.075224</td>\n",
       "      <td>0.009491</td>\n",
       "      <td>-0.053998</td>\n",
       "    </tr>\n",
       "    <tr>\n",
       "      <th>Tenure</th>\n",
       "      <td>-0.014408</td>\n",
       "      <td>0.046268</td>\n",
       "      <td>-0.010087</td>\n",
       "      <td>-0.082851</td>\n",
       "      <td>0.012370</td>\n",
       "      <td>-0.037870</td>\n",
       "      <td>0.029507</td>\n",
       "      <td>0.024784</td>\n",
       "      <td>-0.067980</td>\n",
       "      <td>-0.040678</td>\n",
       "      <td>-0.033991</td>\n",
       "      <td>-0.043483</td>\n",
       "      <td>1.000000</td>\n",
       "      <td>0.015883</td>\n",
       "      <td>0.018038</td>\n",
       "      <td>0.009254</td>\n",
       "    </tr>\n",
       "    <tr>\n",
       "      <th>Migration_Status</th>\n",
       "      <td>-0.076433</td>\n",
       "      <td>0.047133</td>\n",
       "      <td>-0.052732</td>\n",
       "      <td>-0.085437</td>\n",
       "      <td>-0.372434</td>\n",
       "      <td>-0.080588</td>\n",
       "      <td>-0.166234</td>\n",
       "      <td>-0.111448</td>\n",
       "      <td>0.009614</td>\n",
       "      <td>-0.040853</td>\n",
       "      <td>-0.083252</td>\n",
       "      <td>0.075224</td>\n",
       "      <td>0.015883</td>\n",
       "      <td>1.000000</td>\n",
       "      <td>0.015497</td>\n",
       "      <td>0.038840</td>\n",
       "    </tr>\n",
       "    <tr>\n",
       "      <th>Latest_Rating</th>\n",
       "      <td>-0.224739</td>\n",
       "      <td>0.031396</td>\n",
       "      <td>0.018003</td>\n",
       "      <td>-0.035361</td>\n",
       "      <td>-0.001907</td>\n",
       "      <td>-0.089862</td>\n",
       "      <td>-0.021026</td>\n",
       "      <td>-0.015529</td>\n",
       "      <td>0.025341</td>\n",
       "      <td>-0.018844</td>\n",
       "      <td>-0.102779</td>\n",
       "      <td>0.009491</td>\n",
       "      <td>0.018038</td>\n",
       "      <td>0.015497</td>\n",
       "      <td>1.000000</td>\n",
       "      <td>-0.001981</td>\n",
       "    </tr>\n",
       "    <tr>\n",
       "      <th>Title1</th>\n",
       "      <td>0.050037</td>\n",
       "      <td>-0.068219</td>\n",
       "      <td>-0.011296</td>\n",
       "      <td>0.030185</td>\n",
       "      <td>-0.041494</td>\n",
       "      <td>0.088533</td>\n",
       "      <td>-0.035981</td>\n",
       "      <td>-0.082166</td>\n",
       "      <td>-0.085658</td>\n",
       "      <td>0.053866</td>\n",
       "      <td>0.048470</td>\n",
       "      <td>-0.053998</td>\n",
       "      <td>0.009254</td>\n",
       "      <td>0.038840</td>\n",
       "      <td>-0.001981</td>\n",
       "      <td>1.000000</td>\n",
       "    </tr>\n",
       "  </tbody>\n",
       "</table>\n",
       "</div>"
      ],
      "text/plain": [
       "                     EMP_STATUS  Manager_ID    GENDER  MARITAL_STATUS  \\\n",
       "EMP_STATUS             1.000000   -0.071485 -0.094330        0.133134   \n",
       "Manager_ID            -0.071485    1.000000  0.040216       -0.087056   \n",
       "GENDER                -0.094330    0.040216  1.000000       -0.077181   \n",
       "MARITAL_STATUS         0.133134   -0.087056 -0.077181        1.000000   \n",
       "P_CITY_NAME            0.015824    0.054141  0.047057       -0.073712   \n",
       "RESIGNATION_REASON     0.394158   -0.035177 -0.018936        0.161698   \n",
       "OFFICE_NAME            0.060530    0.128255  0.024261        0.037012   \n",
       "Office_city            0.034308    0.178046  0.063028        0.112251   \n",
       "Tenure_bins           -0.118047    0.016525  0.061307       -0.068525   \n",
       "CLIENT_NAME            0.087724   -0.093661 -0.087762        0.106906   \n",
       "QUALIFICATION_LEVEL    0.444478   -0.092291 -0.046291        0.193290   \n",
       "Age                   -0.056489    0.024223 -0.013094       -0.053545   \n",
       "Tenure                -0.014408    0.046268 -0.010087       -0.082851   \n",
       "Migration_Status      -0.076433    0.047133 -0.052732       -0.085437   \n",
       "Latest_Rating         -0.224739    0.031396  0.018003       -0.035361   \n",
       "Title1                 0.050037   -0.068219 -0.011296        0.030185   \n",
       "\n",
       "                     P_CITY_NAME  RESIGNATION_REASON  OFFICE_NAME  \\\n",
       "EMP_STATUS              0.015824            0.394158     0.060530   \n",
       "Manager_ID              0.054141           -0.035177     0.128255   \n",
       "GENDER                  0.047057           -0.018936     0.024261   \n",
       "MARITAL_STATUS         -0.073712            0.161698     0.037012   \n",
       "P_CITY_NAME             1.000000           -0.017297    -0.004894   \n",
       "RESIGNATION_REASON     -0.017297            1.000000     0.014799   \n",
       "OFFICE_NAME            -0.004894            0.014799     1.000000   \n",
       "Office_city            -0.031493            0.024240     0.686836   \n",
       "Tenure_bins             0.036495           -0.045616    -0.010178   \n",
       "CLIENT_NAME            -0.045221            0.031807     0.091108   \n",
       "QUALIFICATION_LEVEL    -0.022184            0.305883     0.008381   \n",
       "Age                    -0.051635           -0.048301     0.014683   \n",
       "Tenure                  0.012370           -0.037870     0.029507   \n",
       "Migration_Status       -0.372434           -0.080588    -0.166234   \n",
       "Latest_Rating          -0.001907           -0.089862    -0.021026   \n",
       "Title1                 -0.041494            0.088533    -0.035981   \n",
       "\n",
       "                     Office_city  Tenure_bins  CLIENT_NAME  \\\n",
       "EMP_STATUS              0.034308    -0.118047     0.087724   \n",
       "Manager_ID              0.178046     0.016525    -0.093661   \n",
       "GENDER                  0.063028     0.061307    -0.087762   \n",
       "MARITAL_STATUS          0.112251    -0.068525     0.106906   \n",
       "P_CITY_NAME            -0.031493     0.036495    -0.045221   \n",
       "RESIGNATION_REASON      0.024240    -0.045616     0.031807   \n",
       "OFFICE_NAME             0.686836    -0.010178     0.091108   \n",
       "Office_city             1.000000    -0.049863    -0.203226   \n",
       "Tenure_bins            -0.049863     1.000000     0.007027   \n",
       "CLIENT_NAME            -0.203226     0.007027     1.000000   \n",
       "QUALIFICATION_LEVEL    -0.007462    -0.089649     0.066437   \n",
       "Age                     0.036409     0.120484    -0.015876   \n",
       "Tenure                  0.024784    -0.067980    -0.040678   \n",
       "Migration_Status       -0.111448     0.009614    -0.040853   \n",
       "Latest_Rating          -0.015529     0.025341    -0.018844   \n",
       "Title1                 -0.082166    -0.085658     0.053866   \n",
       "\n",
       "                     QUALIFICATION_LEVEL       Age    Tenure  \\\n",
       "EMP_STATUS                      0.444478 -0.056489 -0.014408   \n",
       "Manager_ID                     -0.092291  0.024223  0.046268   \n",
       "GENDER                         -0.046291 -0.013094 -0.010087   \n",
       "MARITAL_STATUS                  0.193290 -0.053545 -0.082851   \n",
       "P_CITY_NAME                    -0.022184 -0.051635  0.012370   \n",
       "RESIGNATION_REASON              0.305883 -0.048301 -0.037870   \n",
       "OFFICE_NAME                     0.008381  0.014683  0.029507   \n",
       "Office_city                    -0.007462  0.036409  0.024784   \n",
       "Tenure_bins                    -0.089649  0.120484 -0.067980   \n",
       "CLIENT_NAME                     0.066437 -0.015876 -0.040678   \n",
       "QUALIFICATION_LEVEL             1.000000 -0.051482 -0.033991   \n",
       "Age                            -0.051482  1.000000 -0.043483   \n",
       "Tenure                         -0.033991 -0.043483  1.000000   \n",
       "Migration_Status               -0.083252  0.075224  0.015883   \n",
       "Latest_Rating                  -0.102779  0.009491  0.018038   \n",
       "Title1                          0.048470 -0.053998  0.009254   \n",
       "\n",
       "                     Migration_Status  Latest_Rating    Title1  \n",
       "EMP_STATUS                  -0.076433      -0.224739  0.050037  \n",
       "Manager_ID                   0.047133       0.031396 -0.068219  \n",
       "GENDER                      -0.052732       0.018003 -0.011296  \n",
       "MARITAL_STATUS              -0.085437      -0.035361  0.030185  \n",
       "P_CITY_NAME                 -0.372434      -0.001907 -0.041494  \n",
       "RESIGNATION_REASON          -0.080588      -0.089862  0.088533  \n",
       "OFFICE_NAME                 -0.166234      -0.021026 -0.035981  \n",
       "Office_city                 -0.111448      -0.015529 -0.082166  \n",
       "Tenure_bins                  0.009614       0.025341 -0.085658  \n",
       "CLIENT_NAME                 -0.040853      -0.018844  0.053866  \n",
       "QUALIFICATION_LEVEL         -0.083252      -0.102779  0.048470  \n",
       "Age                          0.075224       0.009491 -0.053998  \n",
       "Tenure                       0.015883       0.018038  0.009254  \n",
       "Migration_Status             1.000000       0.015497  0.038840  \n",
       "Latest_Rating                0.015497       1.000000 -0.001981  \n",
       "Title1                       0.038840      -0.001981  1.000000  "
      ]
     },
     "execution_count": 33,
     "metadata": {},
     "output_type": "execute_result"
    }
   ],
   "source": [
    "## observe the correlation bet features\n",
    "\n",
    "df2.apply(lambda x : pd.factorize(x)[0]).corr(method='pearson',min_periods =1)"
   ]
  },
  {
   "cell_type": "code",
   "execution_count": 34,
   "metadata": {},
   "outputs": [],
   "source": [
    "## apply one hot encoding \n",
    "\n",
    "dummy_M=pd.get_dummies(df1[\"MARITAL_STATUS\"])\n",
    "dummy_T=pd.get_dummies(df1[\"Tenure_bins\"])\n",
    "dummy_Q=pd.get_dummies(df1[\"QUALIFICATION_LEVEL\"])"
   ]
  },
  {
   "cell_type": "code",
   "execution_count": 35,
   "metadata": {},
   "outputs": [
    {
     "data": {
      "text/html": [
       "<div>\n",
       "<style scoped>\n",
       "    .dataframe tbody tr th:only-of-type {\n",
       "        vertical-align: middle;\n",
       "    }\n",
       "\n",
       "    .dataframe tbody tr th {\n",
       "        vertical-align: top;\n",
       "    }\n",
       "\n",
       "    .dataframe thead th {\n",
       "        text-align: right;\n",
       "    }\n",
       "</style>\n",
       "<table border=\"1\" class=\"dataframe\">\n",
       "  <thead>\n",
       "    <tr style=\"text-align: right;\">\n",
       "      <th></th>\n",
       "      <th>EMP_STATUS</th>\n",
       "      <th>Latest_Rating</th>\n",
       "    </tr>\n",
       "  </thead>\n",
       "  <tbody>\n",
       "    <tr>\n",
       "      <th>0</th>\n",
       "      <td>InActive</td>\n",
       "      <td>3</td>\n",
       "    </tr>\n",
       "    <tr>\n",
       "      <th>1</th>\n",
       "      <td>InActive</td>\n",
       "      <td>3</td>\n",
       "    </tr>\n",
       "    <tr>\n",
       "      <th>3</th>\n",
       "      <td>InActive</td>\n",
       "      <td>3</td>\n",
       "    </tr>\n",
       "    <tr>\n",
       "      <th>4</th>\n",
       "      <td>InActive</td>\n",
       "      <td>3</td>\n",
       "    </tr>\n",
       "    <tr>\n",
       "      <th>5</th>\n",
       "      <td>InActive</td>\n",
       "      <td>3</td>\n",
       "    </tr>\n",
       "  </tbody>\n",
       "</table>\n",
       "</div>"
      ],
      "text/plain": [
       "  EMP_STATUS Latest_Rating\n",
       "0   InActive             3\n",
       "1   InActive             3\n",
       "3   InActive             3\n",
       "4   InActive             3\n",
       "5   InActive             3"
      ]
     },
     "execution_count": 35,
     "metadata": {},
     "output_type": "execute_result"
    }
   ],
   "source": [
    "## assign EMP_STATUS and Latest_Rating to df3\n",
    "\n",
    "df3=df2[[\"EMP_STATUS\",\"Latest_Rating\"]]\n",
    "df3.head()"
   ]
  },
  {
   "cell_type": "code",
   "execution_count": 36,
   "metadata": {},
   "outputs": [
    {
     "data": {
      "text/html": [
       "<div>\n",
       "<style scoped>\n",
       "    .dataframe tbody tr th:only-of-type {\n",
       "        vertical-align: middle;\n",
       "    }\n",
       "\n",
       "    .dataframe tbody tr th {\n",
       "        vertical-align: top;\n",
       "    }\n",
       "\n",
       "    .dataframe thead th {\n",
       "        text-align: right;\n",
       "    }\n",
       "</style>\n",
       "<table border=\"1\" class=\"dataframe\">\n",
       "  <thead>\n",
       "    <tr style=\"text-align: right;\">\n",
       "      <th></th>\n",
       "      <th>EMP_STATUS</th>\n",
       "      <th>Latest_Rating</th>\n",
       "      <th>D</th>\n",
       "      <th>DP</th>\n",
       "      <th>LT</th>\n",
       "      <th>M</th>\n",
       "      <th>NULL</th>\n",
       "      <th>S</th>\n",
       "      <th>SP</th>\n",
       "      <th>UnMarried</th>\n",
       "      <th>...</th>\n",
       "      <th>Tenure 301-330</th>\n",
       "      <th>Tenure 31-60</th>\n",
       "      <th>Tenure 331-365</th>\n",
       "      <th>Tenure 61-100</th>\n",
       "      <th>Tenure more than 365</th>\n",
       "      <th>Diploma</th>\n",
       "      <th>Graduation</th>\n",
       "      <th>Gruduation</th>\n",
       "      <th>Masters</th>\n",
       "      <th>Post Grad</th>\n",
       "    </tr>\n",
       "  </thead>\n",
       "  <tbody>\n",
       "    <tr>\n",
       "      <th>0</th>\n",
       "      <td>InActive</td>\n",
       "      <td>3</td>\n",
       "      <td>0</td>\n",
       "      <td>0</td>\n",
       "      <td>0</td>\n",
       "      <td>0</td>\n",
       "      <td>0</td>\n",
       "      <td>1</td>\n",
       "      <td>0</td>\n",
       "      <td>0</td>\n",
       "      <td>...</td>\n",
       "      <td>0</td>\n",
       "      <td>0</td>\n",
       "      <td>0</td>\n",
       "      <td>0</td>\n",
       "      <td>1</td>\n",
       "      <td>0</td>\n",
       "      <td>0</td>\n",
       "      <td>0</td>\n",
       "      <td>0</td>\n",
       "      <td>1</td>\n",
       "    </tr>\n",
       "    <tr>\n",
       "      <th>1</th>\n",
       "      <td>InActive</td>\n",
       "      <td>3</td>\n",
       "      <td>0</td>\n",
       "      <td>0</td>\n",
       "      <td>0</td>\n",
       "      <td>0</td>\n",
       "      <td>0</td>\n",
       "      <td>1</td>\n",
       "      <td>0</td>\n",
       "      <td>0</td>\n",
       "      <td>...</td>\n",
       "      <td>0</td>\n",
       "      <td>0</td>\n",
       "      <td>0</td>\n",
       "      <td>0</td>\n",
       "      <td>0</td>\n",
       "      <td>0</td>\n",
       "      <td>0</td>\n",
       "      <td>0</td>\n",
       "      <td>0</td>\n",
       "      <td>1</td>\n",
       "    </tr>\n",
       "    <tr>\n",
       "      <th>3</th>\n",
       "      <td>InActive</td>\n",
       "      <td>3</td>\n",
       "      <td>0</td>\n",
       "      <td>0</td>\n",
       "      <td>0</td>\n",
       "      <td>0</td>\n",
       "      <td>0</td>\n",
       "      <td>1</td>\n",
       "      <td>0</td>\n",
       "      <td>0</td>\n",
       "      <td>...</td>\n",
       "      <td>0</td>\n",
       "      <td>0</td>\n",
       "      <td>0</td>\n",
       "      <td>0</td>\n",
       "      <td>1</td>\n",
       "      <td>0</td>\n",
       "      <td>0</td>\n",
       "      <td>0</td>\n",
       "      <td>0</td>\n",
       "      <td>1</td>\n",
       "    </tr>\n",
       "    <tr>\n",
       "      <th>4</th>\n",
       "      <td>InActive</td>\n",
       "      <td>3</td>\n",
       "      <td>0</td>\n",
       "      <td>0</td>\n",
       "      <td>0</td>\n",
       "      <td>0</td>\n",
       "      <td>0</td>\n",
       "      <td>1</td>\n",
       "      <td>0</td>\n",
       "      <td>0</td>\n",
       "      <td>...</td>\n",
       "      <td>0</td>\n",
       "      <td>0</td>\n",
       "      <td>0</td>\n",
       "      <td>0</td>\n",
       "      <td>1</td>\n",
       "      <td>0</td>\n",
       "      <td>0</td>\n",
       "      <td>0</td>\n",
       "      <td>0</td>\n",
       "      <td>1</td>\n",
       "    </tr>\n",
       "    <tr>\n",
       "      <th>5</th>\n",
       "      <td>InActive</td>\n",
       "      <td>3</td>\n",
       "      <td>0</td>\n",
       "      <td>0</td>\n",
       "      <td>0</td>\n",
       "      <td>0</td>\n",
       "      <td>0</td>\n",
       "      <td>1</td>\n",
       "      <td>0</td>\n",
       "      <td>0</td>\n",
       "      <td>...</td>\n",
       "      <td>0</td>\n",
       "      <td>0</td>\n",
       "      <td>0</td>\n",
       "      <td>0</td>\n",
       "      <td>0</td>\n",
       "      <td>0</td>\n",
       "      <td>0</td>\n",
       "      <td>0</td>\n",
       "      <td>0</td>\n",
       "      <td>1</td>\n",
       "    </tr>\n",
       "  </tbody>\n",
       "</table>\n",
       "<p>5 rows × 29 columns</p>\n",
       "</div>"
      ],
      "text/plain": [
       "  EMP_STATUS Latest_Rating  D  DP  LT  M  NULL  S  SP  UnMarried  ...  \\\n",
       "0   InActive             3  0   0   0  0     0  1   0          0  ...   \n",
       "1   InActive             3  0   0   0  0     0  1   0          0  ...   \n",
       "3   InActive             3  0   0   0  0     0  1   0          0  ...   \n",
       "4   InActive             3  0   0   0  0     0  1   0          0  ...   \n",
       "5   InActive             3  0   0   0  0     0  1   0          0  ...   \n",
       "\n",
       "   Tenure 301-330  Tenure 31-60  Tenure 331-365  Tenure 61-100  \\\n",
       "0               0             0               0              0   \n",
       "1               0             0               0              0   \n",
       "3               0             0               0              0   \n",
       "4               0             0               0              0   \n",
       "5               0             0               0              0   \n",
       "\n",
       "   Tenure more than 365  Diploma  Graduation  Gruduation  Masters  Post Grad  \n",
       "0                     1        0           0           0        0          1  \n",
       "1                     0        0           0           0        0          1  \n",
       "3                     1        0           0           0        0          1  \n",
       "4                     1        0           0           0        0          1  \n",
       "5                     0        0           0           0        0          1  \n",
       "\n",
       "[5 rows x 29 columns]"
      ]
     },
     "execution_count": 36,
     "metadata": {},
     "output_type": "execute_result"
    }
   ],
   "source": [
    "## concat the encioded values\n",
    "\n",
    "df3=pd.concat([df3,dummy_M,dummy_T,dummy_Q],axis=1)\n",
    "df3.head()"
   ]
  },
  {
   "cell_type": "code",
   "execution_count": 37,
   "metadata": {},
   "outputs": [],
   "source": [
    "#split dataset in features and target variable\n",
    "\n",
    "X = df3[[i for i in list(df3.columns) if i != 'EMP_STATUS']] # Features\n",
    "\n",
    "y = df3[\"EMP_STATUS\"] # Target variable"
   ]
  },
  {
   "cell_type": "code",
   "execution_count": 38,
   "metadata": {},
   "outputs": [],
   "source": [
    "## import train test split from skleran\n",
    "\n",
    "from sklearn.model_selection import train_test_split\n",
    "\n",
    "X_train, X_test, y_train, y_test = train_test_split(X, y, test_size=0.30)"
   ]
  },
  {
   "cell_type": "markdown",
   "metadata": {},
   "source": [
    "## Logistic Regression"
   ]
  },
  {
   "cell_type": "code",
   "execution_count": 39,
   "metadata": {},
   "outputs": [
    {
     "name": "stderr",
     "output_type": "stream",
     "text": [
      "C:\\Users\\guess\\anaconda3\\lib\\site-packages\\sklearn\\linear_model\\_logistic.py:762: ConvergenceWarning: lbfgs failed to converge (status=1):\n",
      "STOP: TOTAL NO. of ITERATIONS REACHED LIMIT.\n",
      "\n",
      "Increase the number of iterations (max_iter) or scale the data as shown in:\n",
      "    https://scikit-learn.org/stable/modules/preprocessing.html\n",
      "Please also refer to the documentation for alternative solver options:\n",
      "    https://scikit-learn.org/stable/modules/linear_model.html#logistic-regression\n",
      "  n_iter_i = _check_optimize_result(\n"
     ]
    }
   ],
   "source": [
    "# import the class\n",
    "\n",
    "from sklearn.linear_model import LogisticRegression\n",
    "\n",
    "# instantiate the model (using the default parameters)\n",
    "\n",
    "logreg = LogisticRegression()\n",
    "\n",
    "# fit the model with data\n",
    "\n",
    "result=logreg.fit(X_train,y_train)\n",
    "\n",
    "# define y_pred\n",
    "y_pred=logreg.predict(X_test)"
   ]
  },
  {
   "cell_type": "code",
   "execution_count": 40,
   "metadata": {},
   "outputs": [
    {
     "name": "stdout",
     "output_type": "stream",
     "text": [
      "       Latest_Rating  D  DP  LT  M  NULL  S  SP  UnMarried  W  ...  \\\n",
      "123445             1  0   0   0  0     0  1   0          0  0  ...   \n",
      "42307              3  0   0   0  0     0  1   0          0  0  ...   \n",
      "87261              4  0   0   0  0     0  1   0          0  0  ...   \n",
      "84685              5  0   0   0  0     0  1   0          0  0  ...   \n",
      "139473             1  0   0   0  0     0  1   0          0  0  ...   \n",
      "...              ... ..  ..  .. ..   ... ..  ..        ... ..  ...   \n",
      "28357              3  0   0   0  0     0  1   0          0  0  ...   \n",
      "86853              2  0   0   0  0     0  1   0          0  0  ...   \n",
      "50766              2  0   0   0  0     0  1   0          0  0  ...   \n",
      "68299              2  0   0   0  0     0  1   0          0  0  ...   \n",
      "129033             3  0   0   0  0     0  1   0          0  0  ...   \n",
      "\n",
      "        Tenure 301-330  Tenure 31-60  Tenure 331-365  Tenure 61-100  \\\n",
      "123445               0             0               0              0   \n",
      "42307                0             1               0              0   \n",
      "87261                0             0               0              0   \n",
      "84685                0             0               0              0   \n",
      "139473               0             0               0              0   \n",
      "...                ...           ...             ...            ...   \n",
      "28357                0             1               0              0   \n",
      "86853                0             0               0              0   \n",
      "50766                0             0               0              1   \n",
      "68299                0             0               0              1   \n",
      "129033               0             1               0              0   \n",
      "\n",
      "        Tenure more than 365  Diploma  Graduation  Gruduation  Masters  \\\n",
      "123445                     0        0           1           0        0   \n",
      "42307                      0        0           0           0        1   \n",
      "87261                      1        0           0           0        1   \n",
      "84685                      1        0           0           0        1   \n",
      "139473                     0        0           0           0        1   \n",
      "...                      ...      ...         ...         ...      ...   \n",
      "28357                      0        0           0           0        1   \n",
      "86853                      0        0           0           0        0   \n",
      "50766                      0        0           0           0        1   \n",
      "68299                      0        0           0           0        1   \n",
      "129033                     0        0           0           0        1   \n",
      "\n",
      "        Post Grad  \n",
      "123445          0  \n",
      "42307           0  \n",
      "87261           0  \n",
      "84685           0  \n",
      "139473          0  \n",
      "...           ...  \n",
      "28357           0  \n",
      "86853           1  \n",
      "50766           0  \n",
      "68299           0  \n",
      "129033          0  \n",
      "\n",
      "[78092 rows x 28 columns]\n"
     ]
    }
   ],
   "source": [
    "print(X_train)"
   ]
  },
  {
   "cell_type": "code",
   "execution_count": 41,
   "metadata": {},
   "outputs": [
    {
     "name": "stdout",
     "output_type": "stream",
     "text": [
      "123445    InActive\n",
      "42307     InActive\n",
      "87261       Active\n",
      "84685       Active\n",
      "139473    InActive\n",
      "            ...   \n",
      "28357     InActive\n",
      "86853     InActive\n",
      "50766     InActive\n",
      "68299     InActive\n",
      "129033      Active\n",
      "Name: EMP_STATUS, Length: 78092, dtype: category\n",
      "Categories (2, object): ['Active', 'InActive']\n"
     ]
    }
   ],
   "source": [
    "print(y_train)"
   ]
  },
  {
   "cell_type": "code",
   "execution_count": 42,
   "metadata": {},
   "outputs": [
    {
     "name": "stdout",
     "output_type": "stream",
     "text": [
      "89599       Active\n",
      "127961    InActive\n",
      "120679    InActive\n",
      "129682    InActive\n",
      "44147     InActive\n",
      "            ...   \n",
      "94004     InActive\n",
      "58860     InActive\n",
      "126159    InActive\n",
      "112592    InActive\n",
      "131684    InActive\n",
      "Name: EMP_STATUS, Length: 33468, dtype: category\n",
      "Categories (2, object): ['Active', 'InActive']\n"
     ]
    }
   ],
   "source": [
    "print(y_test)"
   ]
  },
  {
   "cell_type": "code",
   "execution_count": 43,
   "metadata": {},
   "outputs": [
    {
     "name": "stdout",
     "output_type": "stream",
     "text": [
      "['InActive' 'InActive' 'InActive' ... 'InActive' 'InActive' 'InActive']\n"
     ]
    }
   ],
   "source": [
    "print(y_pred)"
   ]
  },
  {
   "cell_type": "code",
   "execution_count": 44,
   "metadata": {},
   "outputs": [
    {
     "data": {
      "text/plain": [
       "array([[ 2360,   630],\n",
       "       [   56, 30422]], dtype=int64)"
      ]
     },
     "execution_count": 44,
     "metadata": {},
     "output_type": "execute_result"
    }
   ],
   "source": [
    "## import metrics from sklearn \n",
    "\n",
    "from sklearn import metrics\n",
    "cnf_matrix = metrics.confusion_matrix(y_test, y_pred)\n",
    "cnf_matrix"
   ]
  },
  {
   "cell_type": "code",
   "execution_count": 45,
   "metadata": {},
   "outputs": [
    {
     "name": "stdout",
     "output_type": "stream",
     "text": [
      "              precision    recall  f1-score   support\n",
      "\n",
      "      Active       0.98      0.79      0.87      2990\n",
      "    InActive       0.98      1.00      0.99     30478\n",
      "\n",
      "    accuracy                           0.98     33468\n",
      "   macro avg       0.98      0.89      0.93     33468\n",
      "weighted avg       0.98      0.98      0.98     33468\n",
      "\n"
     ]
    }
   ],
   "source": [
    "## import classification report from sklearn\n",
    "\n",
    "from sklearn.metrics import classification_report\n",
    "print(classification_report(y_test, y_pred))"
   ]
  },
  {
   "cell_type": "code",
   "execution_count": 46,
   "metadata": {},
   "outputs": [
    {
     "name": "stdout",
     "output_type": "stream",
     "text": [
      "Accuracy of logistic regression classifier on train set: 0.98\n",
      "Accuracy of logistic regression classifier on test set: 0.98\n"
     ]
    }
   ],
   "source": [
    "## print the accuracy\n",
    "\n",
    "from sklearn import metrics\n",
    "score_train = logreg.score(X_train, y_train)\n",
    "print('Accuracy of logistic regression classifier on train set: {:.2f}'.format(score_train))\n",
    "score_test = logreg.score(X_test, y_test)\n",
    "print('Accuracy of logistic regression classifier on test set: {:.2f}'.format(score_test))"
   ]
  },
  {
   "cell_type": "code",
   "execution_count": 47,
   "metadata": {
    "scrolled": false
   },
   "outputs": [
    {
     "name": "stdout",
     "output_type": "stream",
     "text": [
      "[[7.82177146e-02 9.21782285e-01]\n",
      " [6.69387235e-09 9.99999993e-01]\n",
      " [4.80301443e-09 9.99999995e-01]\n",
      " ...\n",
      " [6.69387235e-09 9.99999993e-01]\n",
      " [5.64009683e-09 9.99999994e-01]\n",
      " [3.08623327e-09 9.99999997e-01]]\n"
     ]
    },
    {
     "name": "stderr",
     "output_type": "stream",
     "text": [
      "C:\\Users\\guess\\anaconda3\\lib\\site-packages\\sklearn\\utils\\deprecation.py:86: FutureWarning: Function plot_roc_curve is deprecated; This will be removed in v0.5.0. Please use scikitplot.metrics.plot_roc instead.\n",
      "  warnings.warn(msg, category=FutureWarning)\n"
     ]
    },
    {
     "data": {
      "text/plain": [
       "<AxesSubplot:title={'center':'ROC Curves'}, xlabel='False Positive Rate', ylabel='True Positive Rate'>"
      ]
     },
     "execution_count": 47,
     "metadata": {},
     "output_type": "execute_result"
    },
    {
     "data": {
      "image/png": "[encoded data removed]",
      "text/plain": [
       "<Figure size 432x288 with 1 Axes>"
      ]
     },
     "metadata": {
      "needs_background": "light"
     },
     "output_type": "display_data"
    }
   ],
   "source": [
    "## import scikitplot and matplotlib and y_prob\n",
    "\n",
    "import scikitplot as skplt\n",
    "import matplotlib.pyplot as plt\n",
    "\n",
    "import sklearn.metrics as metrics\n",
    "y_probs=result.predict_proba(X_test)\n",
    "print(y_probs)\n",
    "\n",
    "skplt.metrics.plot_roc_curve(y_test, y_probs)\n"
   ]
  },
  {
   "cell_type": "markdown",
   "metadata": {},
   "source": [
    "## Decision Tree"
   ]
  },
  {
   "cell_type": "code",
   "execution_count": 48,
   "metadata": {},
   "outputs": [
    {
     "name": "stdout",
     "output_type": "stream",
     "text": [
      "DecisionTreeClassifier()\n"
     ]
    }
   ],
   "source": [
    "## import tree from skleran and fit anfd run \n",
    "\n",
    "from sklearn import tree\n",
    "clf = tree.DecisionTreeClassifier()\n",
    "clf = clf.fit(X_train, y_train)\n",
    "print(clf)\n",
    "y_pred=clf.predict(X_test)"
   ]
  },
  {
   "cell_type": "code",
   "execution_count": 49,
   "metadata": {},
   "outputs": [
    {
     "name": "stdout",
     "output_type": "stream",
     "text": [
      "[[ 2358   632]\n",
      " [   55 30423]]\n",
      "              precision    recall  f1-score   support\n",
      "\n",
      "      Active       0.98      0.79      0.87      2990\n",
      "    InActive       0.98      1.00      0.99     30478\n",
      "\n",
      "    accuracy                           0.98     33468\n",
      "   macro avg       0.98      0.89      0.93     33468\n",
      "weighted avg       0.98      0.98      0.98     33468\n",
      "\n"
     ]
    }
   ],
   "source": [
    "## print confusion matrix and classification report\n",
    "\n",
    "from sklearn.metrics import classification_report, confusion_matrix\n",
    "from sklearn.metrics import accuracy_score\n",
    "\n",
    "print(confusion_matrix(y_test, y_pred))  \n",
    "print(classification_report(y_test, y_pred))"
   ]
  },
  {
   "cell_type": "code",
   "execution_count": 50,
   "metadata": {},
   "outputs": [
    {
     "name": "stdout",
     "output_type": "stream",
     "text": [
      "Accuracy is  97.94729293653639\n"
     ]
    }
   ],
   "source": [
    "## print the accuracy\n",
    "\n",
    "print (\"Accuracy is \", accuracy_score(y_test,y_pred)*100)"
   ]
  },
  {
   "cell_type": "markdown",
   "metadata": {},
   "source": [
    "## Random Forest"
   ]
  },
  {
   "cell_type": "code",
   "execution_count": 51,
   "metadata": {},
   "outputs": [],
   "source": [
    "## import RandomForestClassifier and make_classification from sklearn\n",
    "\n",
    "from sklearn.ensemble import RandomForestClassifier\n",
    "from sklearn.datasets import make_classification"
   ]
  },
  {
   "cell_type": "code",
   "execution_count": 52,
   "metadata": {},
   "outputs": [
    {
     "name": "stdout",
     "output_type": "stream",
     "text": [
      "RandomForestClassifier(max_depth=2, n_estimators=10, random_state=0)\n"
     ]
    }
   ],
   "source": [
    "## fit and run\n",
    "\n",
    "clf = RandomForestClassifier(n_estimators=10, max_depth=2,random_state=0)\n",
    "clf=clf.fit(X_train, y_train)\n",
    "print(clf)\n",
    "y_pred=clf.predict(X_test)"
   ]
  },
  {
   "cell_type": "code",
   "execution_count": 53,
   "metadata": {},
   "outputs": [
    {
     "name": "stdout",
     "output_type": "stream",
     "text": [
      "[[  934  2056]\n",
      " [    0 30478]]\n",
      "              precision    recall  f1-score   support\n",
      "\n",
      "      Active       1.00      0.31      0.48      2990\n",
      "    InActive       0.94      1.00      0.97     30478\n",
      "\n",
      "    accuracy                           0.94     33468\n",
      "   macro avg       0.97      0.66      0.72     33468\n",
      "weighted avg       0.94      0.94      0.92     33468\n",
      "\n"
     ]
    }
   ],
   "source": [
    "## print the confusion matrix and classification report\n",
    "\n",
    "from sklearn.metrics import classification_report, confusion_matrix  \n",
    "print(confusion_matrix(y_test, y_pred))  \n",
    "print(classification_report(y_test, y_pred))"
   ]
  },
  {
   "cell_type": "code",
   "execution_count": 54,
   "metadata": {},
   "outputs": [
    {
     "name": "stdout",
     "output_type": "stream",
     "text": [
      "Accuracy is  93.85681845344807\n"
     ]
    }
   ],
   "source": [
    "## print the accuracy\n",
    "\n",
    "print (\"Accuracy is \", accuracy_score(y_test,y_pred)*100)"
   ]
  }
 ],
 "metadata": {
  "kernelspec": {
   "display_name": "Python 3",
   "language": "python",
   "name": "python3"
  },
  "language_info": {
   "codemirror_mode": {
    "name": "ipython",
    "version": 3
   },
   "file_extension": ".py",
   "mimetype": "text/x-python",
   "name": "python",
   "nbconvert_exporter": "python",
   "pygments_lexer": "ipython3",
   "version": "3.8.5"
  }
 },
 "nbformat": 4,
 "nbformat_minor": 4
}
